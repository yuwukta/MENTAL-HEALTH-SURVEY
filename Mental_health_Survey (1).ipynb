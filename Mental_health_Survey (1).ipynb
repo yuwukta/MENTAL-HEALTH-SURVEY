{
 "cells": [
  {
   "cell_type": "markdown",
   "id": "9333113f",
   "metadata": {},
   "source": [
    "# Mental Health Survey "
   ]
  },
  {
   "cell_type": "markdown",
   "id": "99c33c81",
   "metadata": {},
   "source": [
    "This project aims to extract meaningful insights from Open Source Mental Illness (OSMI) database based on survey responses on age, gender, occupation, individual responses, and more."
   ]
  },
  {
   "cell_type": "markdown",
   "id": "bd480d42",
   "metadata": {},
   "source": [
    "1. Importing dependencies for SQL connection"
   ]
  },
  {
   "cell_type": "code",
   "execution_count": 2,
   "id": "27bcb3b3",
   "metadata": {},
   "outputs": [],
   "source": [
    "import sqlite3\n",
    "import pandas as pd"
   ]
  },
  {
   "cell_type": "markdown",
   "id": "8c005ce2",
   "metadata": {},
   "source": [
    "2. Establishing connection between SQL Database and python"
   ]
  },
  {
   "cell_type": "code",
   "execution_count": 11,
   "id": "cf1fcf42",
   "metadata": {},
   "outputs": [],
   "source": [
    "con = sqlite3.connect(\"mental_health.sqlite\")"
   ]
  },
  {
   "cell_type": "markdown",
   "id": "f52a8471",
   "metadata": {},
   "source": [
    "3. Understanding the table and data types (eg, data types, columns, keys, etc).\n",
    "\n"
   ]
  },
  {
   "cell_type": "code",
   "execution_count": 12,
   "id": "a76949ec",
   "metadata": {},
   "outputs": [
    {
     "data": {
      "text/html": [
       "<div>\n",
       "<style scoped>\n",
       "    .dataframe tbody tr th:only-of-type {\n",
       "        vertical-align: middle;\n",
       "    }\n",
       "\n",
       "    .dataframe tbody tr th {\n",
       "        vertical-align: top;\n",
       "    }\n",
       "\n",
       "    .dataframe thead th {\n",
       "        text-align: right;\n",
       "    }\n",
       "</style>\n",
       "<table border=\"1\" class=\"dataframe\">\n",
       "  <thead>\n",
       "    <tr style=\"text-align: right;\">\n",
       "      <th></th>\n",
       "      <th>type</th>\n",
       "      <th>name</th>\n",
       "      <th>tbl_name</th>\n",
       "      <th>rootpage</th>\n",
       "      <th>sql</th>\n",
       "    </tr>\n",
       "  </thead>\n",
       "  <tbody>\n",
       "    <tr>\n",
       "      <th>0</th>\n",
       "      <td>table</td>\n",
       "      <td>Answer</td>\n",
       "      <td>Answer</td>\n",
       "      <td>2</td>\n",
       "      <td>CREATE TABLE \"Answer\" (\\n\\t\"AnswerText\" VARCHA...</td>\n",
       "    </tr>\n",
       "    <tr>\n",
       "      <th>1</th>\n",
       "      <td>table</td>\n",
       "      <td>Question</td>\n",
       "      <td>Question</td>\n",
       "      <td>1434</td>\n",
       "      <td>CREATE TABLE \"Question\" (\\n\\t\"questiontext\" VA...</td>\n",
       "    </tr>\n",
       "    <tr>\n",
       "      <th>2</th>\n",
       "      <td>table</td>\n",
       "      <td>Survey</td>\n",
       "      <td>Survey</td>\n",
       "      <td>1438</td>\n",
       "      <td>CREATE TABLE \"Survey\" (\\n\\t\"SurveyID\" INTEGER ...</td>\n",
       "    </tr>\n",
       "  </tbody>\n",
       "</table>\n",
       "</div>"
      ],
      "text/plain": [
       "    type      name  tbl_name  rootpage  \\\n",
       "0  table    Answer    Answer         2   \n",
       "1  table  Question  Question      1434   \n",
       "2  table    Survey    Survey      1438   \n",
       "\n",
       "                                                 sql  \n",
       "0  CREATE TABLE \"Answer\" (\\n\\t\"AnswerText\" VARCHA...  \n",
       "1  CREATE TABLE \"Question\" (\\n\\t\"questiontext\" VA...  \n",
       "2  CREATE TABLE \"Survey\" (\\n\\t\"SurveyID\" INTEGER ...  "
      ]
     },
     "execution_count": 12,
     "metadata": {},
     "output_type": "execute_result"
    }
   ],
   "source": [
    "table = pd.read_sql('''\n",
    "SELECT * FROM sqlite_master \n",
    "WHERE TYPE = 'table'; ''',con)\n",
    "table"
   ]
  },
  {
   "cell_type": "code",
   "execution_count": 13,
   "id": "b173e387",
   "metadata": {},
   "outputs": [
    {
     "name": "stdout",
     "output_type": "stream",
     "text": [
      "CREATE TABLE \"Answer\" (\n",
      "\t\"AnswerText\" VARCHAR(10000) NULL,\n",
      "\t\"SurveyID\" INTEGER NULL,\n",
      "\t\"UserID\" INTEGER NULL,\n",
      "\t\"QuestionID\" INTEGER NULL\n",
      ")\n",
      "CREATE TABLE \"Question\" (\n",
      "\t\"questiontext\" VARCHAR(1000) NULL,\n",
      "\t\"questionid\" INTEGER NULL\n",
      ")\n",
      "CREATE TABLE \"Survey\" (\n",
      "\t\"SurveyID\" INTEGER NOT NULL,\n",
      "\t\"Description\" VARCHAR(255) NULL,\n",
      "\tPRIMARY KEY (\"SurveyID\")\n",
      ")\n"
     ]
    }
   ],
   "source": [
    "for row in table[\"sql\"]:\n",
    "    print(row)"
   ]
  },
  {
   "cell_type": "code",
   "execution_count": 14,
   "id": "bae77bd7",
   "metadata": {},
   "outputs": [
    {
     "data": {
      "text/html": [
       "<div>\n",
       "<style scoped>\n",
       "    .dataframe tbody tr th:only-of-type {\n",
       "        vertical-align: middle;\n",
       "    }\n",
       "\n",
       "    .dataframe tbody tr th {\n",
       "        vertical-align: top;\n",
       "    }\n",
       "\n",
       "    .dataframe thead th {\n",
       "        text-align: right;\n",
       "    }\n",
       "</style>\n",
       "<table border=\"1\" class=\"dataframe\">\n",
       "  <thead>\n",
       "    <tr style=\"text-align: right;\">\n",
       "      <th></th>\n",
       "      <th>SurveyID</th>\n",
       "      <th>Description</th>\n",
       "    </tr>\n",
       "  </thead>\n",
       "  <tbody>\n",
       "    <tr>\n",
       "      <th>0</th>\n",
       "      <td>2014</td>\n",
       "      <td>mental health survey for 2014</td>\n",
       "    </tr>\n",
       "    <tr>\n",
       "      <th>1</th>\n",
       "      <td>2016</td>\n",
       "      <td>mental health survey for 2016</td>\n",
       "    </tr>\n",
       "    <tr>\n",
       "      <th>2</th>\n",
       "      <td>2017</td>\n",
       "      <td>mental health survey for 2017</td>\n",
       "    </tr>\n",
       "    <tr>\n",
       "      <th>3</th>\n",
       "      <td>2018</td>\n",
       "      <td>mental health survey for 2018</td>\n",
       "    </tr>\n",
       "    <tr>\n",
       "      <th>4</th>\n",
       "      <td>2019</td>\n",
       "      <td>mental health survey for 2019</td>\n",
       "    </tr>\n",
       "  </tbody>\n",
       "</table>\n",
       "</div>"
      ],
      "text/plain": [
       "   SurveyID                    Description\n",
       "0      2014  mental health survey for 2014\n",
       "1      2016  mental health survey for 2016\n",
       "2      2017  mental health survey for 2017\n",
       "3      2018  mental health survey for 2018\n",
       "4      2019  mental health survey for 2019"
      ]
     },
     "execution_count": 14,
     "metadata": {},
     "output_type": "execute_result"
    }
   ],
   "source": [
    "survey = pd.read_sql_query('''SELECT * FROM Survey''', con)\n",
    "survey"
   ]
  },
  {
   "cell_type": "markdown",
   "id": "f474f6e7",
   "metadata": {},
   "source": [
    "The three tables are connected by the SurveyID and QuestionID/questionid."
   ]
  },
  {
   "cell_type": "code",
   "execution_count": 15,
   "id": "9842fc15",
   "metadata": {},
   "outputs": [
    {
     "name": "stdout",
     "output_type": "stream",
     "text": [
      "1 What is your age?\n",
      "2 What is your gender?\n",
      "3 What country do you live in?\n",
      "4 If you live in the United States, which state or territory do you live in?\n",
      "5 Are you self-employed?\n",
      "6 Do you have a family history of mental illness?\n",
      "7 Have you ever sought treatment for a mental health disorder from a mental health professional?\n",
      "8 How many employees does your company or organization have?\n",
      "9 Is your employer primarily a tech company/organization?\n",
      "10 Does your employer provide mental health benefits as part of healthcare coverage?\n",
      "11 Is your anonymity protected if you choose to take advantage of mental health or substance abuse treatment resources provided by your employer?\n",
      "12 Would you bring up a mental health issue with a potential employer in an interview?\n",
      "13 Is your primary role within your company related to tech/IT?\n",
      "14 Do you know the options for mental health care available under your employer-provided health coverage?\n",
      "15 Has your employer ever formally discussed mental health (for example, as part of a wellness campaign or other official communication)?\n",
      "16 Does your employer offer resources to learn more about mental health disorders and options for seeking help?\n",
      "17 If a mental health issue prompted you to request a medical leave from work, how easy or difficult would it be to ask for that leave?\n",
      "18 Would you feel comfortable discussing a mental health issue with your coworkers?\n",
      "19 Would you feel comfortable discussing a mental health issue with your direct supervisor(s)?\n",
      "20 Do you have medical coverage (private insurance or state-provided) that includes treatment of mental health disorders?\n",
      "21 Do you know local or online resources to seek help for a mental health issue?\n",
      "22 Do you have previous employers?\n",
      "23 Have your previous employers provided mental health benefits?\n",
      "24 Were you aware of the options for mental health care provided by your previous employers?\n",
      "25 Did your previous employers ever formally discuss mental health (as part of a wellness campaign or other official communication)?\n",
      "26 Did your previous employers provide resources to learn more about mental health disorders and how to seek help?\n",
      "27 Was your anonymity protected if you chose to take advantage of mental health or substance abuse treatment resources with previous employers?\n",
      "28 Would you have been willing to discuss your mental health with your direct supervisor(s)?\n",
      "29 Would you be willing to bring up a physical health issue with a potential employer in an interview?\n",
      "30 How willing would you be to share with friends and family that you have a mental illness?\n",
      "31 Have your observations of how another individual who discussed a mental health disorder made you less likely to reveal a mental health issue yourself in your current workplace?\n",
      "32 Have you had a mental health disorder in the past?\n",
      "33 Do you currently have a mental health disorder?\n",
      "34 Have you ever been diagnosed with a mental health disorder?\n",
      "48 If you have a mental health disorder, how often do you feel that it interferes with your work when being treated effectively?\n",
      "49 If you have a mental health disorder, how often do you feel that it interferes with your work when not being treated effectively (i.e., when you are experiencing symptoms)?\n",
      "50 What country do you work in?\n",
      "51 What US state or territory do you work in?\n",
      "52 If you have been diagnosed or treated for a mental health disorder, do you ever reveal this to clients or business contacts?\n",
      "53 If you have been diagnosed or treated for a mental health disorder, do you ever reveal this to coworkers or employees?\n",
      "54 Do you believe your productivity is ever affected by a mental health issue?\n",
      "55 If yes, what percentage of your work time (time performing primary or secondary job functions) is affected by a mental health issue?\n",
      "56 Have you observed or experienced an unsupportive or badly handled response to a mental health issue in your current or previous workplace?\n",
      "57 Would you feel more comfortable talking to your coworkers about your physical health or your mental health?\n",
      "58 Have you ever discussed your mental health with your employer?\n",
      "59 Describe the conversation you had with your employer about your mental health, including their reactions and what actions were taken to address your mental health issue/questions.\n",
      "60 Have you ever discussed your mental health with coworkers?\n",
      "61 Describe the conversation with coworkers you had about your mental health including their reactions.\n",
      "62 Have you ever had a coworker discuss their or another coworker's mental health with you?\n",
      "63 Describe the conversation your coworker had with you about their mental health (please do not use names).\n",
      "64 Overall, how much importance does your employer place on physical health?\n",
      "65 Overall, how much importance does your employer place on mental health?\n",
      "66 If you have revealed a mental health disorder to a client or business contact, how has this affected you or the relationship?\n",
      "67 If you have revealed a mental health disorder to a coworker or employee, how has this impacted you or the relationship?\n",
      "68 Was your employer primarily a tech company/organization?\n",
      "69 Would you have felt more comfortable talking to your previous employer about your physical health or your mental health?\n",
      "70 Did you ever discuss your mental health with your previous employer?\n",
      "71 Describe the conversation you had with your previous employer about your mental health, including their reactions and actions taken to address your mental health issue/questions.\n",
      "72 Did you ever discuss your mental health with a previous coworker(s)?\n",
      "73 Describe the conversation you had with your previous coworkers about your mental health including their reactions.\n",
      "74 Did you ever have a previous coworker discuss their or another coworker's mental health with you?\n",
      "75 Describe the conversation your coworker had with you about their mental health (please do not use names)..1\n",
      "76 Overall, how much importance did your previous employer place on physical health?\n",
      "77 Overall, how much importance did your previous employer place on mental health?\n",
      "78 Are you openly identified at work as a person with a mental health issue?\n",
      "79 Has being identified as a person with a mental health issue affected your career?\n",
      "80 How has it affected your career?\n",
      "81 If they knew you suffered from a mental health disorder, how do you think that your team members/co-workers would react?\n",
      "82 Describe the circumstances of the badly handled or unsupportive response.\n",
      "83 Have you observed or experienced supportive or well handled response to a mental health issue in your current or previous workplace?\n",
      "84 Describe the circumstances of the supportive or well handled response.\n",
      "85 Overall, how well do you think the tech industry supports employees with mental health issues?\n",
      "86 Briefly describe what you think the industry as a whole and/or employers could do to improve mental health support for employees.\n",
      "87 If there is anything else you would like to tell us that has not been covered by the survey questions, please use this space to do so.\n",
      "88 Would you be willing to talk to one of us more extensively about your experiences with mental health issues in the tech industry? (Note that all interview responses would be used _anonymously_ and only with your permission.)\n",
      "89 What is your race?\n",
      "90 Do you think that discussing a physical health issue with your employer would have negative consequences?\n",
      "91 Do you feel that your employer takes mental health as seriously as physical health?\n",
      "92 If you have a mental health condition, do you feel that it interferes with your work?\n",
      "93 Do you work remotely (outside of an office) at least 50% of the time?\n",
      "94 Do you know the options for mental health care your employer provides?\n",
      "95 Has your employer ever discussed mental health as part of an employee wellness program?\n",
      "96 Does your employer provide resources to learn more about mental health issues and how to seek help?\n",
      "97 How easy is it for you to take medical leave for a mental health condition?\n",
      "98 Do you think that discussing a mental health issue with your employer would have negative consequences?\n",
      "99 Would you be willing to discuss a mental health issue with your coworkers?\n",
      "100 Would you be willing to discuss a mental health issue with your direct supervisor(s)?\n",
      "101 Would you bring up a physical health issue with a potential employer in an interview?\n",
      "102 Have you heard of or observed negative consequences for coworkers with mental health conditions in your workplace?\n",
      "103 Any additional notes or comments\n",
      "104 Do you think that discussing a mental health disorder with your employer would have negative consequences?\n",
      "105 Have you heard of or observed negative consequences for co-workers who have been open about mental health issues in your workplace?\n",
      "106 If you have revealed a mental health issue to a client or business contact, do you believe this has impacted you negatively?\n",
      "107 If you have revealed a mental health issue to a coworker or employee, do you believe this has impacted you negatively?\n",
      "108 Do you think that discussing a mental health disorder with previous employers would have negative consequences?\n",
      "109 Do you think that discussing a physical health issue with previous employers would have negative consequences?\n",
      "110 Would you have been willing to discuss a mental health issue with your previous co-workers?\n",
      "111 Did you feel that your previous employers took mental health as seriously as physical health?\n",
      "112 Did you hear of or observe negative consequences for co-workers with mental health issues in your previous workplaces?\n",
      "113 Do you feel that being identified as a person with a mental health issue would hurt your career?\n",
      "114 Do you think that team members/co-workers would view you more negatively if they knew you suffered from a mental health issue?\n",
      "115 If yes, what condition(s) have you been diagnosed with?\n",
      "116 If maybe, what condition(s) do you believe you have?\n",
      "117 Which of the following best describes your work position?\n",
      "118 Do you work remotely?\n"
     ]
    }
   ],
   "source": [
    "question = pd.read_sql_query('''SELECT * FROM Question''', con)\n",
    "\n",
    "for index, row in question.iterrows():\n",
    "    print(row['questionid'], row['questiontext'])"
   ]
  },
  {
   "cell_type": "code",
   "execution_count": 17,
   "id": "d0ad20fa",
   "metadata": {},
   "outputs": [
    {
     "data": {
      "text/html": [
       "<div>\n",
       "<style scoped>\n",
       "    .dataframe tbody tr th:only-of-type {\n",
       "        vertical-align: middle;\n",
       "    }\n",
       "\n",
       "    .dataframe tbody tr th {\n",
       "        vertical-align: top;\n",
       "    }\n",
       "\n",
       "    .dataframe thead th {\n",
       "        text-align: right;\n",
       "    }\n",
       "</style>\n",
       "<table border=\"1\" class=\"dataframe\">\n",
       "  <thead>\n",
       "    <tr style=\"text-align: right;\">\n",
       "      <th></th>\n",
       "      <th>questiontext</th>\n",
       "      <th>questionid</th>\n",
       "    </tr>\n",
       "  </thead>\n",
       "  <tbody>\n",
       "    <tr>\n",
       "      <th>0</th>\n",
       "      <td>What is your age?</td>\n",
       "      <td>1</td>\n",
       "    </tr>\n",
       "    <tr>\n",
       "      <th>1</th>\n",
       "      <td>What is your gender?</td>\n",
       "      <td>2</td>\n",
       "    </tr>\n",
       "    <tr>\n",
       "      <th>2</th>\n",
       "      <td>What country do you live in?</td>\n",
       "      <td>3</td>\n",
       "    </tr>\n",
       "    <tr>\n",
       "      <th>3</th>\n",
       "      <td>If you live in the United States, which state ...</td>\n",
       "      <td>4</td>\n",
       "    </tr>\n",
       "    <tr>\n",
       "      <th>4</th>\n",
       "      <td>Are you self-employed?</td>\n",
       "      <td>5</td>\n",
       "    </tr>\n",
       "    <tr>\n",
       "      <th>...</th>\n",
       "      <td>...</td>\n",
       "      <td>...</td>\n",
       "    </tr>\n",
       "    <tr>\n",
       "      <th>100</th>\n",
       "      <td>Do you think that team members/co-workers woul...</td>\n",
       "      <td>114</td>\n",
       "    </tr>\n",
       "    <tr>\n",
       "      <th>101</th>\n",
       "      <td>If yes, what condition(s) have you been diagno...</td>\n",
       "      <td>115</td>\n",
       "    </tr>\n",
       "    <tr>\n",
       "      <th>102</th>\n",
       "      <td>If maybe, what condition(s) do you believe you...</td>\n",
       "      <td>116</td>\n",
       "    </tr>\n",
       "    <tr>\n",
       "      <th>103</th>\n",
       "      <td>Which of the following best describes your wor...</td>\n",
       "      <td>117</td>\n",
       "    </tr>\n",
       "    <tr>\n",
       "      <th>104</th>\n",
       "      <td>Do you work remotely?</td>\n",
       "      <td>118</td>\n",
       "    </tr>\n",
       "  </tbody>\n",
       "</table>\n",
       "<p>105 rows × 2 columns</p>\n",
       "</div>"
      ],
      "text/plain": [
       "                                          questiontext  questionid\n",
       "0                                    What is your age?           1\n",
       "1                                 What is your gender?           2\n",
       "2                         What country do you live in?           3\n",
       "3    If you live in the United States, which state ...           4\n",
       "4                               Are you self-employed?           5\n",
       "..                                                 ...         ...\n",
       "100  Do you think that team members/co-workers woul...         114\n",
       "101  If yes, what condition(s) have you been diagno...         115\n",
       "102  If maybe, what condition(s) do you believe you...         116\n",
       "103  Which of the following best describes your wor...         117\n",
       "104                              Do you work remotely?         118\n",
       "\n",
       "[105 rows x 2 columns]"
      ]
     },
     "execution_count": 17,
     "metadata": {},
     "output_type": "execute_result"
    }
   ],
   "source": [
    "question[question.duplicated(['questiontext'], keep=False)] #none\n",
    "question"
   ]
  },
  {
   "cell_type": "code",
   "execution_count": 18,
   "id": "17df56e4",
   "metadata": {},
   "outputs": [
    {
     "data": {
      "text/html": [
       "<div>\n",
       "<style scoped>\n",
       "    .dataframe tbody tr th:only-of-type {\n",
       "        vertical-align: middle;\n",
       "    }\n",
       "\n",
       "    .dataframe tbody tr th {\n",
       "        vertical-align: top;\n",
       "    }\n",
       "\n",
       "    .dataframe thead th {\n",
       "        text-align: right;\n",
       "    }\n",
       "</style>\n",
       "<table border=\"1\" class=\"dataframe\">\n",
       "  <thead>\n",
       "    <tr style=\"text-align: right;\">\n",
       "      <th></th>\n",
       "      <th>AnswerText</th>\n",
       "      <th>SurveyID</th>\n",
       "      <th>UserID</th>\n",
       "      <th>QuestionID</th>\n",
       "    </tr>\n",
       "  </thead>\n",
       "  <tbody>\n",
       "    <tr>\n",
       "      <th>0</th>\n",
       "      <td>37</td>\n",
       "      <td>2014</td>\n",
       "      <td>1</td>\n",
       "      <td>1</td>\n",
       "    </tr>\n",
       "    <tr>\n",
       "      <th>1</th>\n",
       "      <td>44</td>\n",
       "      <td>2014</td>\n",
       "      <td>2</td>\n",
       "      <td>1</td>\n",
       "    </tr>\n",
       "    <tr>\n",
       "      <th>2</th>\n",
       "      <td>32</td>\n",
       "      <td>2014</td>\n",
       "      <td>3</td>\n",
       "      <td>1</td>\n",
       "    </tr>\n",
       "    <tr>\n",
       "      <th>3</th>\n",
       "      <td>31</td>\n",
       "      <td>2014</td>\n",
       "      <td>4</td>\n",
       "      <td>1</td>\n",
       "    </tr>\n",
       "    <tr>\n",
       "      <th>4</th>\n",
       "      <td>31</td>\n",
       "      <td>2014</td>\n",
       "      <td>5</td>\n",
       "      <td>1</td>\n",
       "    </tr>\n",
       "    <tr>\n",
       "      <th>...</th>\n",
       "      <td>...</td>\n",
       "      <td>...</td>\n",
       "      <td>...</td>\n",
       "      <td>...</td>\n",
       "    </tr>\n",
       "    <tr>\n",
       "      <th>236893</th>\n",
       "      <td>Other</td>\n",
       "      <td>2016</td>\n",
       "      <td>2689</td>\n",
       "      <td>117</td>\n",
       "    </tr>\n",
       "    <tr>\n",
       "      <th>236894</th>\n",
       "      <td>Support</td>\n",
       "      <td>2016</td>\n",
       "      <td>2690</td>\n",
       "      <td>117</td>\n",
       "    </tr>\n",
       "    <tr>\n",
       "      <th>236895</th>\n",
       "      <td>Back-end Developer</td>\n",
       "      <td>2016</td>\n",
       "      <td>2691</td>\n",
       "      <td>117</td>\n",
       "    </tr>\n",
       "    <tr>\n",
       "      <th>236896</th>\n",
       "      <td>DevOps/SysAdmin</td>\n",
       "      <td>2016</td>\n",
       "      <td>2692</td>\n",
       "      <td>117</td>\n",
       "    </tr>\n",
       "    <tr>\n",
       "      <th>236897</th>\n",
       "      <td>Other</td>\n",
       "      <td>2016</td>\n",
       "      <td>2693</td>\n",
       "      <td>117</td>\n",
       "    </tr>\n",
       "  </tbody>\n",
       "</table>\n",
       "<p>236898 rows × 4 columns</p>\n",
       "</div>"
      ],
      "text/plain": [
       "                AnswerText  SurveyID  UserID  QuestionID\n",
       "0                       37      2014       1           1\n",
       "1                       44      2014       2           1\n",
       "2                       32      2014       3           1\n",
       "3                       31      2014       4           1\n",
       "4                       31      2014       5           1\n",
       "...                    ...       ...     ...         ...\n",
       "236893               Other      2016    2689         117\n",
       "236894             Support      2016    2690         117\n",
       "236895  Back-end Developer      2016    2691         117\n",
       "236896     DevOps/SysAdmin      2016    2692         117\n",
       "236897               Other      2016    2693         117\n",
       "\n",
       "[236898 rows x 4 columns]"
      ]
     },
     "execution_count": 18,
     "metadata": {},
     "output_type": "execute_result"
    }
   ],
   "source": [
    "answers = pd.read_sql_query('''SELECT * FROM Answer''', con)\n",
    "answers"
   ]
  },
  {
   "cell_type": "markdown",
   "id": "8ef8287e",
   "metadata": {},
   "source": [
    "Following Questions have been tried to answer in the following section:\n",
    "1. How does mental health diagnoses and mental health support differ across age, sex, race, and work position?\n",
    "2. Does working remotely impact mental health diagnoses? What about mental health support?\n",
    "3. Who would benefit the most from additional programs?\n",
    "4. What do individuals in the survey believe would improve mental health support in their companies?"
   ]
  },
  {
   "cell_type": "code",
   "execution_count": 19,
   "id": "1b5ee0ac",
   "metadata": {},
   "outputs": [
    {
     "data": {
      "text/html": [
       "<div>\n",
       "<style scoped>\n",
       "    .dataframe tbody tr th:only-of-type {\n",
       "        vertical-align: middle;\n",
       "    }\n",
       "\n",
       "    .dataframe tbody tr th {\n",
       "        vertical-align: top;\n",
       "    }\n",
       "\n",
       "    .dataframe thead th {\n",
       "        text-align: right;\n",
       "    }\n",
       "</style>\n",
       "<table border=\"1\" class=\"dataframe\">\n",
       "  <thead>\n",
       "    <tr style=\"text-align: right;\">\n",
       "      <th></th>\n",
       "      <th>age</th>\n",
       "      <th>id</th>\n",
       "    </tr>\n",
       "  </thead>\n",
       "  <tbody>\n",
       "    <tr>\n",
       "      <th>0</th>\n",
       "      <td>-1</td>\n",
       "      <td>391</td>\n",
       "    </tr>\n",
       "    <tr>\n",
       "      <th>1</th>\n",
       "      <td>-1</td>\n",
       "      <td>716</td>\n",
       "    </tr>\n",
       "    <tr>\n",
       "      <th>2</th>\n",
       "      <td>-1</td>\n",
       "      <td>1128</td>\n",
       "    </tr>\n",
       "    <tr>\n",
       "      <th>3</th>\n",
       "      <td>-1</td>\n",
       "      <td>3447</td>\n",
       "    </tr>\n",
       "    <tr>\n",
       "      <th>4</th>\n",
       "      <td>-1</td>\n",
       "      <td>3449</td>\n",
       "    </tr>\n",
       "    <tr>\n",
       "      <th>...</th>\n",
       "      <td>...</td>\n",
       "      <td>...</td>\n",
       "    </tr>\n",
       "    <tr>\n",
       "      <th>4213</th>\n",
       "      <td>70</td>\n",
       "      <td>2482</td>\n",
       "    </tr>\n",
       "    <tr>\n",
       "      <th>4214</th>\n",
       "      <td>72</td>\n",
       "      <td>1183</td>\n",
       "    </tr>\n",
       "    <tr>\n",
       "      <th>4215</th>\n",
       "      <td>74</td>\n",
       "      <td>2378</td>\n",
       "    </tr>\n",
       "    <tr>\n",
       "      <th>4216</th>\n",
       "      <td>8</td>\n",
       "      <td>990</td>\n",
       "    </tr>\n",
       "    <tr>\n",
       "      <th>4217</th>\n",
       "      <td>99</td>\n",
       "      <td>1633</td>\n",
       "    </tr>\n",
       "  </tbody>\n",
       "</table>\n",
       "<p>4218 rows × 2 columns</p>\n",
       "</div>"
      ],
      "text/plain": [
       "     age    id\n",
       "0     -1   391\n",
       "1     -1   716\n",
       "2     -1  1128\n",
       "3     -1  3447\n",
       "4     -1  3449\n",
       "...   ..   ...\n",
       "4213  70  2482\n",
       "4214  72  1183\n",
       "4215  74  2378\n",
       "4216   8   990\n",
       "4217  99  1633\n",
       "\n",
       "[4218 rows x 2 columns]"
      ]
     },
     "execution_count": 19,
     "metadata": {},
     "output_type": "execute_result"
    }
   ],
   "source": [
    "age = pd.read_sql_query('''\n",
    "SELECT AnswerText AS age, UserID AS id\n",
    "FROM Answer, Question\n",
    "WHERE Answer.QuestionID=Question.questionid\n",
    "AND Answer.QuestionID=1;\n",
    "''',con)\n",
    "age"
   ]
  },
  {
   "cell_type": "code",
   "execution_count": 20,
   "id": "7462e59d",
   "metadata": {},
   "outputs": [
    {
     "data": {
      "text/html": [
       "<div>\n",
       "<style scoped>\n",
       "    .dataframe tbody tr th:only-of-type {\n",
       "        vertical-align: middle;\n",
       "    }\n",
       "\n",
       "    .dataframe tbody tr th {\n",
       "        vertical-align: top;\n",
       "    }\n",
       "\n",
       "    .dataframe thead th {\n",
       "        text-align: right;\n",
       "    }\n",
       "</style>\n",
       "<table border=\"1\" class=\"dataframe\">\n",
       "  <thead>\n",
       "    <tr style=\"text-align: right;\">\n",
       "      <th></th>\n",
       "      <th>id</th>\n",
       "      <th>mhd</th>\n",
       "    </tr>\n",
       "  </thead>\n",
       "  <tbody>\n",
       "    <tr>\n",
       "      <th>0</th>\n",
       "      <td>1261</td>\n",
       "      <td>No</td>\n",
       "    </tr>\n",
       "    <tr>\n",
       "      <th>1</th>\n",
       "      <td>1262</td>\n",
       "      <td>Yes</td>\n",
       "    </tr>\n",
       "    <tr>\n",
       "      <th>2</th>\n",
       "      <td>1263</td>\n",
       "      <td>No</td>\n",
       "    </tr>\n",
       "    <tr>\n",
       "      <th>3</th>\n",
       "      <td>1264</td>\n",
       "      <td>Yes</td>\n",
       "    </tr>\n",
       "    <tr>\n",
       "      <th>4</th>\n",
       "      <td>1265</td>\n",
       "      <td>Yes</td>\n",
       "    </tr>\n",
       "    <tr>\n",
       "      <th>...</th>\n",
       "      <td>...</td>\n",
       "      <td>...</td>\n",
       "    </tr>\n",
       "    <tr>\n",
       "      <th>2953</th>\n",
       "      <td>4214</td>\n",
       "      <td>Possibly</td>\n",
       "    </tr>\n",
       "    <tr>\n",
       "      <th>2954</th>\n",
       "      <td>4215</td>\n",
       "      <td>No</td>\n",
       "    </tr>\n",
       "    <tr>\n",
       "      <th>2955</th>\n",
       "      <td>4216</td>\n",
       "      <td>No</td>\n",
       "    </tr>\n",
       "    <tr>\n",
       "      <th>2956</th>\n",
       "      <td>4217</td>\n",
       "      <td>Possibly</td>\n",
       "    </tr>\n",
       "    <tr>\n",
       "      <th>2957</th>\n",
       "      <td>4218</td>\n",
       "      <td>Yes</td>\n",
       "    </tr>\n",
       "  </tbody>\n",
       "</table>\n",
       "<p>2958 rows × 2 columns</p>\n",
       "</div>"
      ],
      "text/plain": [
       "        id       mhd\n",
       "0     1261        No\n",
       "1     1262       Yes\n",
       "2     1263        No\n",
       "3     1264       Yes\n",
       "4     1265       Yes\n",
       "...    ...       ...\n",
       "2953  4214  Possibly\n",
       "2954  4215        No\n",
       "2955  4216        No\n",
       "2956  4217  Possibly\n",
       "2957  4218       Yes\n",
       "\n",
       "[2958 rows x 2 columns]"
      ]
     },
     "execution_count": 20,
     "metadata": {},
     "output_type": "execute_result"
    }
   ],
   "source": [
    "mhd = pd.read_sql_query('''\n",
    "SELECT UserID AS id, AnswerText AS mhd\n",
    "FROM Answer, Question\n",
    "WHERE Answer.QuestionID=Question.questionid\n",
    "AND Answer.QuestionID=33; \n",
    "''',con)\n",
    "mhd"
   ]
  },
  {
   "cell_type": "code",
   "execution_count": 21,
   "id": "710821a3",
   "metadata": {},
   "outputs": [
    {
     "data": {
      "text/html": [
       "<div>\n",
       "<style scoped>\n",
       "    .dataframe tbody tr th:only-of-type {\n",
       "        vertical-align: middle;\n",
       "    }\n",
       "\n",
       "    .dataframe tbody tr th {\n",
       "        vertical-align: top;\n",
       "    }\n",
       "\n",
       "    .dataframe thead th {\n",
       "        text-align: right;\n",
       "    }\n",
       "</style>\n",
       "<table border=\"1\" class=\"dataframe\">\n",
       "  <thead>\n",
       "    <tr style=\"text-align: right;\">\n",
       "      <th></th>\n",
       "      <th>resources</th>\n",
       "      <th>id</th>\n",
       "    </tr>\n",
       "  </thead>\n",
       "  <tbody>\n",
       "    <tr>\n",
       "      <th>0</th>\n",
       "      <td>No</td>\n",
       "      <td>1261</td>\n",
       "    </tr>\n",
       "    <tr>\n",
       "      <th>1</th>\n",
       "      <td>Yes</td>\n",
       "      <td>1262</td>\n",
       "    </tr>\n",
       "    <tr>\n",
       "      <th>2</th>\n",
       "      <td>No</td>\n",
       "      <td>1263</td>\n",
       "    </tr>\n",
       "    <tr>\n",
       "      <th>3</th>\n",
       "      <td>-1</td>\n",
       "      <td>1264</td>\n",
       "    </tr>\n",
       "    <tr>\n",
       "      <th>4</th>\n",
       "      <td>No</td>\n",
       "      <td>1265</td>\n",
       "    </tr>\n",
       "    <tr>\n",
       "      <th>...</th>\n",
       "      <td>...</td>\n",
       "      <td>...</td>\n",
       "    </tr>\n",
       "    <tr>\n",
       "      <th>2953</th>\n",
       "      <td>I don't know</td>\n",
       "      <td>4214</td>\n",
       "    </tr>\n",
       "    <tr>\n",
       "      <th>2954</th>\n",
       "      <td>-1</td>\n",
       "      <td>4215</td>\n",
       "    </tr>\n",
       "    <tr>\n",
       "      <th>2955</th>\n",
       "      <td>-1</td>\n",
       "      <td>4216</td>\n",
       "    </tr>\n",
       "    <tr>\n",
       "      <th>2956</th>\n",
       "      <td>No</td>\n",
       "      <td>4217</td>\n",
       "    </tr>\n",
       "    <tr>\n",
       "      <th>2957</th>\n",
       "      <td>Yes</td>\n",
       "      <td>4218</td>\n",
       "    </tr>\n",
       "  </tbody>\n",
       "</table>\n",
       "<p>2958 rows × 2 columns</p>\n",
       "</div>"
      ],
      "text/plain": [
       "         resources    id\n",
       "0               No  1261\n",
       "1              Yes  1262\n",
       "2               No  1263\n",
       "3               -1  1264\n",
       "4               No  1265\n",
       "...            ...   ...\n",
       "2953  I don't know  4214\n",
       "2954            -1  4215\n",
       "2955            -1  4216\n",
       "2956            No  4217\n",
       "2957           Yes  4218\n",
       "\n",
       "[2958 rows x 2 columns]"
      ]
     },
     "execution_count": 21,
     "metadata": {},
     "output_type": "execute_result"
    }
   ],
   "source": [
    "resources = pd.read_sql_query('''\n",
    "SELECT AnswerText AS resources, UserID AS id\n",
    "FROM Answer\n",
    "WHERE QuestionID=16;\n",
    "''',con)\n",
    "resources"
   ]
  },
  {
   "cell_type": "code",
   "execution_count": 22,
   "id": "784779c5",
   "metadata": {},
   "outputs": [
    {
     "data": {
      "text/html": [
       "<div>\n",
       "<style scoped>\n",
       "    .dataframe tbody tr th:only-of-type {\n",
       "        vertical-align: middle;\n",
       "    }\n",
       "\n",
       "    .dataframe tbody tr th {\n",
       "        vertical-align: top;\n",
       "    }\n",
       "\n",
       "    .dataframe thead th {\n",
       "        text-align: right;\n",
       "    }\n",
       "</style>\n",
       "<table border=\"1\" class=\"dataframe\">\n",
       "  <thead>\n",
       "    <tr style=\"text-align: right;\">\n",
       "      <th></th>\n",
       "      <th>benefits</th>\n",
       "      <th>id</th>\n",
       "    </tr>\n",
       "  </thead>\n",
       "  <tbody>\n",
       "    <tr>\n",
       "      <th>0</th>\n",
       "      <td>Yes</td>\n",
       "      <td>1</td>\n",
       "    </tr>\n",
       "    <tr>\n",
       "      <th>1</th>\n",
       "      <td>Don't know</td>\n",
       "      <td>2</td>\n",
       "    </tr>\n",
       "    <tr>\n",
       "      <th>2</th>\n",
       "      <td>No</td>\n",
       "      <td>3</td>\n",
       "    </tr>\n",
       "    <tr>\n",
       "      <th>3</th>\n",
       "      <td>No</td>\n",
       "      <td>4</td>\n",
       "    </tr>\n",
       "    <tr>\n",
       "      <th>4</th>\n",
       "      <td>Yes</td>\n",
       "      <td>5</td>\n",
       "    </tr>\n",
       "    <tr>\n",
       "      <th>...</th>\n",
       "      <td>...</td>\n",
       "      <td>...</td>\n",
       "    </tr>\n",
       "    <tr>\n",
       "      <th>4213</th>\n",
       "      <td>I don't know</td>\n",
       "      <td>4214</td>\n",
       "    </tr>\n",
       "    <tr>\n",
       "      <th>4214</th>\n",
       "      <td>-1</td>\n",
       "      <td>4215</td>\n",
       "    </tr>\n",
       "    <tr>\n",
       "      <th>4215</th>\n",
       "      <td>-1</td>\n",
       "      <td>4216</td>\n",
       "    </tr>\n",
       "    <tr>\n",
       "      <th>4216</th>\n",
       "      <td>No</td>\n",
       "      <td>4217</td>\n",
       "    </tr>\n",
       "    <tr>\n",
       "      <th>4217</th>\n",
       "      <td>Yes</td>\n",
       "      <td>4218</td>\n",
       "    </tr>\n",
       "  </tbody>\n",
       "</table>\n",
       "<p>4218 rows × 2 columns</p>\n",
       "</div>"
      ],
      "text/plain": [
       "          benefits    id\n",
       "0              Yes     1\n",
       "1       Don't know     2\n",
       "2               No     3\n",
       "3               No     4\n",
       "4              Yes     5\n",
       "...            ...   ...\n",
       "4213  I don't know  4214\n",
       "4214            -1  4215\n",
       "4215            -1  4216\n",
       "4216            No  4217\n",
       "4217           Yes  4218\n",
       "\n",
       "[4218 rows x 2 columns]"
      ]
     },
     "execution_count": 22,
     "metadata": {},
     "output_type": "execute_result"
    }
   ],
   "source": [
    "benefits = pd.read_sql_query('''\n",
    "SELECT AnswerText AS benefits, UserID AS id\n",
    "FROM Answer\n",
    "WHERE QuestionID=10;\n",
    "''',con)\n",
    "benefits"
   ]
  },
  {
   "cell_type": "code",
   "execution_count": 23,
   "id": "8b261181",
   "metadata": {},
   "outputs": [
    {
     "data": {
      "text/html": [
       "<div>\n",
       "<style scoped>\n",
       "    .dataframe tbody tr th:only-of-type {\n",
       "        vertical-align: middle;\n",
       "    }\n",
       "\n",
       "    .dataframe tbody tr th {\n",
       "        vertical-align: top;\n",
       "    }\n",
       "\n",
       "    .dataframe thead th {\n",
       "        text-align: right;\n",
       "    }\n",
       "</style>\n",
       "<table border=\"1\" class=\"dataframe\">\n",
       "  <thead>\n",
       "    <tr style=\"text-align: right;\">\n",
       "      <th></th>\n",
       "      <th>conversations</th>\n",
       "      <th>id</th>\n",
       "    </tr>\n",
       "  </thead>\n",
       "  <tbody>\n",
       "    <tr>\n",
       "      <th>0</th>\n",
       "      <td>Yes</td>\n",
       "      <td>1261</td>\n",
       "    </tr>\n",
       "    <tr>\n",
       "      <th>1</th>\n",
       "      <td>Yes</td>\n",
       "      <td>1262</td>\n",
       "    </tr>\n",
       "    <tr>\n",
       "      <th>2</th>\n",
       "      <td>Maybe</td>\n",
       "      <td>1263</td>\n",
       "    </tr>\n",
       "    <tr>\n",
       "      <th>3</th>\n",
       "      <td>-1</td>\n",
       "      <td>1264</td>\n",
       "    </tr>\n",
       "    <tr>\n",
       "      <th>4</th>\n",
       "      <td>No</td>\n",
       "      <td>1265</td>\n",
       "    </tr>\n",
       "    <tr>\n",
       "      <th>...</th>\n",
       "      <td>...</td>\n",
       "      <td>...</td>\n",
       "    </tr>\n",
       "    <tr>\n",
       "      <th>2953</th>\n",
       "      <td>No</td>\n",
       "      <td>4214</td>\n",
       "    </tr>\n",
       "    <tr>\n",
       "      <th>2954</th>\n",
       "      <td>-1</td>\n",
       "      <td>4215</td>\n",
       "    </tr>\n",
       "    <tr>\n",
       "      <th>2955</th>\n",
       "      <td>-1</td>\n",
       "      <td>4216</td>\n",
       "    </tr>\n",
       "    <tr>\n",
       "      <th>2956</th>\n",
       "      <td>No</td>\n",
       "      <td>4217</td>\n",
       "    </tr>\n",
       "    <tr>\n",
       "      <th>2957</th>\n",
       "      <td>Maybe</td>\n",
       "      <td>4218</td>\n",
       "    </tr>\n",
       "  </tbody>\n",
       "</table>\n",
       "<p>2958 rows × 2 columns</p>\n",
       "</div>"
      ],
      "text/plain": [
       "     conversations    id\n",
       "0              Yes  1261\n",
       "1              Yes  1262\n",
       "2            Maybe  1263\n",
       "3               -1  1264\n",
       "4               No  1265\n",
       "...            ...   ...\n",
       "2953            No  4214\n",
       "2954            -1  4215\n",
       "2955            -1  4216\n",
       "2956            No  4217\n",
       "2957         Maybe  4218\n",
       "\n",
       "[2958 rows x 2 columns]"
      ]
     },
     "execution_count": 23,
     "metadata": {},
     "output_type": "execute_result"
    }
   ],
   "source": [
    "conversations = pd.read_sql_query('''\n",
    "SELECT AnswerText AS conversations, UserID AS id\n",
    "FROM Answer\n",
    "WHERE QuestionID=19;\n",
    "''',con)\n",
    "conversations "
   ]
  },
  {
   "cell_type": "code",
   "execution_count": 24,
   "id": "83fc43a4",
   "metadata": {},
   "outputs": [
    {
     "data": {
      "text/html": [
       "<div>\n",
       "<style scoped>\n",
       "    .dataframe tbody tr th:only-of-type {\n",
       "        vertical-align: middle;\n",
       "    }\n",
       "\n",
       "    .dataframe tbody tr th {\n",
       "        vertical-align: top;\n",
       "    }\n",
       "\n",
       "    .dataframe thead th {\n",
       "        text-align: right;\n",
       "    }\n",
       "</style>\n",
       "<table border=\"1\" class=\"dataframe\">\n",
       "  <thead>\n",
       "    <tr style=\"text-align: right;\">\n",
       "      <th></th>\n",
       "      <th>poorsupport</th>\n",
       "      <th>id</th>\n",
       "    </tr>\n",
       "  </thead>\n",
       "  <tbody>\n",
       "    <tr>\n",
       "      <th>0</th>\n",
       "      <td>No</td>\n",
       "      <td>1261</td>\n",
       "    </tr>\n",
       "    <tr>\n",
       "      <th>1</th>\n",
       "      <td>No</td>\n",
       "      <td>1262</td>\n",
       "    </tr>\n",
       "    <tr>\n",
       "      <th>2</th>\n",
       "      <td>Maybe/Not sure</td>\n",
       "      <td>1263</td>\n",
       "    </tr>\n",
       "    <tr>\n",
       "      <th>3</th>\n",
       "      <td>No</td>\n",
       "      <td>1264</td>\n",
       "    </tr>\n",
       "    <tr>\n",
       "      <th>4</th>\n",
       "      <td>Yes, I experienced</td>\n",
       "      <td>1265</td>\n",
       "    </tr>\n",
       "    <tr>\n",
       "      <th>...</th>\n",
       "      <td>...</td>\n",
       "      <td>...</td>\n",
       "    </tr>\n",
       "    <tr>\n",
       "      <th>2953</th>\n",
       "      <td>Yes, I observed</td>\n",
       "      <td>4214</td>\n",
       "    </tr>\n",
       "    <tr>\n",
       "      <th>2954</th>\n",
       "      <td>Yes, I observed</td>\n",
       "      <td>4215</td>\n",
       "    </tr>\n",
       "    <tr>\n",
       "      <th>2955</th>\n",
       "      <td>I've always been self-employed</td>\n",
       "      <td>4216</td>\n",
       "    </tr>\n",
       "    <tr>\n",
       "      <th>2956</th>\n",
       "      <td>Maybe/Not sure</td>\n",
       "      <td>4217</td>\n",
       "    </tr>\n",
       "    <tr>\n",
       "      <th>2957</th>\n",
       "      <td>Maybe/Not sure</td>\n",
       "      <td>4218</td>\n",
       "    </tr>\n",
       "  </tbody>\n",
       "</table>\n",
       "<p>2958 rows × 2 columns</p>\n",
       "</div>"
      ],
      "text/plain": [
       "                         poorsupport    id\n",
       "0                                 No  1261\n",
       "1                                 No  1262\n",
       "2                     Maybe/Not sure  1263\n",
       "3                                 No  1264\n",
       "4                 Yes, I experienced  1265\n",
       "...                              ...   ...\n",
       "2953                 Yes, I observed  4214\n",
       "2954                 Yes, I observed  4215\n",
       "2955  I've always been self-employed  4216\n",
       "2956                  Maybe/Not sure  4217\n",
       "2957                  Maybe/Not sure  4218\n",
       "\n",
       "[2958 rows x 2 columns]"
      ]
     },
     "execution_count": 24,
     "metadata": {},
     "output_type": "execute_result"
    }
   ],
   "source": [
    "poor_support = pd.read_sql_query('''\n",
    "SELECT AnswerText AS poorsupport, UserID AS id\n",
    "FROM Answer\n",
    "WHERE QuestionID=56;\n",
    "''',con)\n",
    "poor_support"
   ]
  },
  {
   "cell_type": "code",
   "execution_count": 25,
   "id": "131f7ff7",
   "metadata": {},
   "outputs": [
    {
     "data": {
      "text/html": [
       "<div>\n",
       "<style scoped>\n",
       "    .dataframe tbody tr th:only-of-type {\n",
       "        vertical-align: middle;\n",
       "    }\n",
       "\n",
       "    .dataframe tbody tr th {\n",
       "        vertical-align: top;\n",
       "    }\n",
       "\n",
       "    .dataframe thead th {\n",
       "        text-align: right;\n",
       "    }\n",
       "</style>\n",
       "<table border=\"1\" class=\"dataframe\">\n",
       "  <thead>\n",
       "    <tr style=\"text-align: right;\">\n",
       "      <th></th>\n",
       "      <th>goodsupport</th>\n",
       "      <th>id</th>\n",
       "    </tr>\n",
       "  </thead>\n",
       "  <tbody>\n",
       "    <tr>\n",
       "      <th>0</th>\n",
       "      <td>Yes, I experienced</td>\n",
       "      <td>2694</td>\n",
       "    </tr>\n",
       "    <tr>\n",
       "      <th>1</th>\n",
       "      <td>Maybe/Not sure</td>\n",
       "      <td>2695</td>\n",
       "    </tr>\n",
       "    <tr>\n",
       "      <th>2</th>\n",
       "      <td>Yes, I experienced</td>\n",
       "      <td>2696</td>\n",
       "    </tr>\n",
       "    <tr>\n",
       "      <th>3</th>\n",
       "      <td>Maybe/Not sure</td>\n",
       "      <td>2697</td>\n",
       "    </tr>\n",
       "    <tr>\n",
       "      <th>4</th>\n",
       "      <td>Yes, I observed</td>\n",
       "      <td>2698</td>\n",
       "    </tr>\n",
       "    <tr>\n",
       "      <th>...</th>\n",
       "      <td>...</td>\n",
       "      <td>...</td>\n",
       "    </tr>\n",
       "    <tr>\n",
       "      <th>1520</th>\n",
       "      <td>Maybe/Not sure</td>\n",
       "      <td>4214</td>\n",
       "    </tr>\n",
       "    <tr>\n",
       "      <th>1521</th>\n",
       "      <td>No</td>\n",
       "      <td>4215</td>\n",
       "    </tr>\n",
       "    <tr>\n",
       "      <th>1522</th>\n",
       "      <td>I've always been self-employed</td>\n",
       "      <td>4216</td>\n",
       "    </tr>\n",
       "    <tr>\n",
       "      <th>1523</th>\n",
       "      <td>Yes, I experienced</td>\n",
       "      <td>4217</td>\n",
       "    </tr>\n",
       "    <tr>\n",
       "      <th>1524</th>\n",
       "      <td>No</td>\n",
       "      <td>4218</td>\n",
       "    </tr>\n",
       "  </tbody>\n",
       "</table>\n",
       "<p>1525 rows × 2 columns</p>\n",
       "</div>"
      ],
      "text/plain": [
       "                         goodsupport    id\n",
       "0                 Yes, I experienced  2694\n",
       "1                     Maybe/Not sure  2695\n",
       "2                 Yes, I experienced  2696\n",
       "3                     Maybe/Not sure  2697\n",
       "4                    Yes, I observed  2698\n",
       "...                              ...   ...\n",
       "1520                  Maybe/Not sure  4214\n",
       "1521                              No  4215\n",
       "1522  I've always been self-employed  4216\n",
       "1523              Yes, I experienced  4217\n",
       "1524                              No  4218\n",
       "\n",
       "[1525 rows x 2 columns]"
      ]
     },
     "execution_count": 25,
     "metadata": {},
     "output_type": "execute_result"
    }
   ],
   "source": [
    "good_support = pd.read_sql_query('''\n",
    "SELECT AnswerText AS goodsupport, UserID AS id\n",
    "FROM Answer\n",
    "WHERE QuestionID=83;\n",
    "''',con)\n",
    "good_support"
   ]
  },
  {
   "cell_type": "code",
   "execution_count": 28,
   "id": "e094287b",
   "metadata": {
    "scrolled": true
   },
   "outputs": [
    {
     "name": "stdout",
     "output_type": "stream",
     "text": [
      "Collecting scikit-posthocs\n",
      "  Downloading scikit_posthocs-0.7.0-py3-none-any.whl (38 kB)\n",
      "Requirement already satisfied: numpy in c:\\users\\ishit\\anaconda3\\lib\\site-packages (from scikit-posthocs) (1.23.5)\n",
      "Requirement already satisfied: matplotlib in c:\\users\\ishit\\anaconda3\\lib\\site-packages (from scikit-posthocs) (3.7.0)\n",
      "Requirement already satisfied: scipy in c:\\users\\ishit\\anaconda3\\lib\\site-packages (from scikit-posthocs) (1.10.0)\n",
      "Requirement already satisfied: seaborn in c:\\users\\ishit\\anaconda3\\lib\\site-packages (from scikit-posthocs) (0.12.2)\n",
      "Requirement already satisfied: pandas>=0.20.0 in c:\\users\\ishit\\anaconda3\\lib\\site-packages (from scikit-posthocs) (1.5.3)\n",
      "Requirement already satisfied: statsmodels in c:\\users\\ishit\\anaconda3\\lib\\site-packages (from scikit-posthocs) (0.13.5)\n",
      "Requirement already satisfied: pytz>=2020.1 in c:\\users\\ishit\\anaconda3\\lib\\site-packages (from pandas>=0.20.0->scikit-posthocs) (2022.7)\n",
      "Requirement already satisfied: python-dateutil>=2.8.1 in c:\\users\\ishit\\anaconda3\\lib\\site-packages (from pandas>=0.20.0->scikit-posthocs) (2.8.2)\n",
      "Requirement already satisfied: fonttools>=4.22.0 in c:\\users\\ishit\\anaconda3\\lib\\site-packages (from matplotlib->scikit-posthocs) (4.25.0)\n",
      "Requirement already satisfied: cycler>=0.10 in c:\\users\\ishit\\anaconda3\\lib\\site-packages (from matplotlib->scikit-posthocs) (0.11.0)\n",
      "Requirement already satisfied: kiwisolver>=1.0.1 in c:\\users\\ishit\\anaconda3\\lib\\site-packages (from matplotlib->scikit-posthocs) (1.4.4)\n",
      "Requirement already satisfied: pillow>=6.2.0 in c:\\users\\ishit\\anaconda3\\lib\\site-packages (from matplotlib->scikit-posthocs) (9.4.0)\n",
      "Requirement already satisfied: packaging>=20.0 in c:\\users\\ishit\\anaconda3\\lib\\site-packages (from matplotlib->scikit-posthocs) (22.0)\n",
      "Requirement already satisfied: pyparsing>=2.3.1 in c:\\users\\ishit\\anaconda3\\lib\\site-packages (from matplotlib->scikit-posthocs) (3.0.9)\n",
      "Requirement already satisfied: contourpy>=1.0.1 in c:\\users\\ishit\\anaconda3\\lib\\site-packages (from matplotlib->scikit-posthocs) (1.0.5)\n",
      "Requirement already satisfied: patsy>=0.5.2 in c:\\users\\ishit\\anaconda3\\lib\\site-packages (from statsmodels->scikit-posthocs) (0.5.3)\n",
      "Requirement already satisfied: six in c:\\users\\ishit\\anaconda3\\lib\\site-packages (from patsy>=0.5.2->statsmodels->scikit-posthocs) (1.16.0)\n",
      "Installing collected packages: scikit-posthocs\n",
      "Successfully installed scikit-posthocs-0.7.0\n",
      "Collecting apyori\n",
      "  Downloading apyori-1.1.2.tar.gz (8.6 kB)\n",
      "  Preparing metadata (setup.py): started\n",
      "  Preparing metadata (setup.py): finished with status 'done'\n",
      "Building wheels for collected packages: apyori\n",
      "  Building wheel for apyori (setup.py): started\n",
      "  Building wheel for apyori (setup.py): finished with status 'done'\n",
      "  Created wheel for apyori: filename=apyori-1.1.2-py3-none-any.whl size=5975 sha256=1e818882146140641d736521a8052c70c82224a722f290bae13db45410237ffb\n",
      "  Stored in directory: c:\\users\\ishit\\appdata\\local\\pip\\cache\\wheels\\84\\45\\a4\\8ade6576f75410d8162c6da1de0aa9df56c16c711acab5a813\n",
      "Successfully built apyori\n",
      "Installing collected packages: apyori\n",
      "Successfully installed apyori-1.1.2\n",
      "Collecting association-metrics\n",
      "  Downloading association-metrics-0.0.1.tar.gz (3.2 kB)\n",
      "  Preparing metadata (setup.py): started\n",
      "  Preparing metadata (setup.py): finished with status 'done'\n",
      "Building wheels for collected packages: association-metrics\n",
      "  Building wheel for association-metrics (setup.py): started\n",
      "  Building wheel for association-metrics (setup.py): finished with status 'done'\n",
      "  Created wheel for association-metrics: filename=association_metrics-0.0.1-py3-none-any.whl size=3951 sha256=150d3236dba914d87a149a843ba4e5a6c068099b1212b21080903dbd6de542c4\n",
      "  Stored in directory: c:\\users\\ishit\\appdata\\local\\pip\\cache\\wheels\\0d\\79\\eb\\a94e5047ff6b5c2235b4fac189583a20ed0af980f65ce778eb\n",
      "Successfully built association-metrics\n",
      "Installing collected packages: association-metrics\n",
      "Successfully installed association-metrics-0.0.1\n"
     ]
    }
   ],
   "source": [
    "import numpy as np \n",
    "import scipy as scipy\n",
    "from scipy import stats\n",
    "from sklearn.impute import KNNImputer\n",
    "import matplotlib.pyplot as plt\n",
    "import scipy.stats\n",
    "import seaborn as sb\n",
    "from statsmodels.graphics.mosaicplot import mosaic\n",
    "import statsmodels.formula.api as sm \n",
    "from statsmodels.formula.api import ols\n",
    "from statsmodels.stats.anova import anova_lm\n",
    "from statsmodels.stats.anova import AnovaRM\n",
    "from statsmodels.graphics.factorplots import interaction_plot\n",
    "from scipy.stats import friedmanchisquare, wilcoxon\n",
    "import itertools\n",
    "from statsmodels.stats.multicomp import pairwise_tukeyhsd\n",
    "from sklearn import tree \n",
    "import graphviz\n",
    "!pip install scikit-posthocs\n",
    "import scikit_posthocs as sp\n",
    "!pip install apyori \n",
    "from apyori import apriori\n",
    "from sklearn.cluster import KMeans\n",
    "from sklearn.linear_model import LogisticRegression\n",
    "from sklearn.preprocessing import StandardScaler\n",
    "from matplotlib import rcParams\n",
    "from sklearn.model_selection import train_test_split\n",
    "from sklearn.feature_selection import SelectKBest\n",
    "from sklearn.feature_selection import chi2\n",
    "from sklearn.feature_selection import RFE\n",
    "from sklearn.feature_selection import RFECV\n",
    "from sklearn.decomposition import PCA\n",
    "from sklearn.feature_selection import f_regression\n",
    "from sklearn.feature_selection import mutual_info_regression\n",
    "from sklearn.ensemble import RandomForestClassifier\n",
    "from sklearn.naive_bayes import MultinomialNB\n",
    "!pip install association-metrics\n",
    "import association_metrics \n",
    "from sklearn.preprocessing import MinMaxScaler\n",
    "from sklearn.preprocessing import RobustScaler\n",
    "from sklearn.inspection import permutation_importance"
   ]
  },
  {
   "cell_type": "code",
   "execution_count": 27,
   "id": "06da3420",
   "metadata": {},
   "outputs": [
    {
     "name": "stdout",
     "output_type": "stream",
     "text": [
      "Collecting graphviz\n",
      "  Downloading graphviz-0.20.1-py3-none-any.whl (47 kB)\n",
      "     ---------------------------------------- 47.0/47.0 kB 2.3 MB/s eta 0:00:00\n",
      "Installing collected packages: graphviz\n",
      "Successfully installed graphviz-0.20.1\n"
     ]
    }
   ],
   "source": [
    "!pip install graphviz\n"
   ]
  },
  {
   "cell_type": "code",
   "execution_count": 29,
   "id": "1da7ce49",
   "metadata": {},
   "outputs": [
    {
     "data": {
      "text/html": [
       "<div>\n",
       "<style scoped>\n",
       "    .dataframe tbody tr th:only-of-type {\n",
       "        vertical-align: middle;\n",
       "    }\n",
       "\n",
       "    .dataframe tbody tr th {\n",
       "        vertical-align: top;\n",
       "    }\n",
       "\n",
       "    .dataframe thead th {\n",
       "        text-align: right;\n",
       "    }\n",
       "</style>\n",
       "<table border=\"1\" class=\"dataframe\">\n",
       "  <thead>\n",
       "    <tr style=\"text-align: right;\">\n",
       "      <th></th>\n",
       "      <th>id</th>\n",
       "      <th>mhd</th>\n",
       "      <th>benefits</th>\n",
       "      <th>resources</th>\n",
       "      <th>conversations</th>\n",
       "      <th>poorsupport</th>\n",
       "      <th>goodsupport</th>\n",
       "      <th>age</th>\n",
       "    </tr>\n",
       "  </thead>\n",
       "  <tbody>\n",
       "    <tr>\n",
       "      <th>0</th>\n",
       "      <td>1261</td>\n",
       "      <td>No</td>\n",
       "      <td>Not eligible for coverage / NA</td>\n",
       "      <td>No</td>\n",
       "      <td>Yes</td>\n",
       "      <td>No</td>\n",
       "      <td>NaN</td>\n",
       "      <td>39</td>\n",
       "    </tr>\n",
       "    <tr>\n",
       "      <th>1</th>\n",
       "      <td>1262</td>\n",
       "      <td>Yes</td>\n",
       "      <td>No</td>\n",
       "      <td>Yes</td>\n",
       "      <td>Yes</td>\n",
       "      <td>No</td>\n",
       "      <td>NaN</td>\n",
       "      <td>29</td>\n",
       "    </tr>\n",
       "    <tr>\n",
       "      <th>2</th>\n",
       "      <td>1263</td>\n",
       "      <td>No</td>\n",
       "      <td>No</td>\n",
       "      <td>No</td>\n",
       "      <td>Maybe</td>\n",
       "      <td>Maybe/Not sure</td>\n",
       "      <td>NaN</td>\n",
       "      <td>38</td>\n",
       "    </tr>\n",
       "    <tr>\n",
       "      <th>3</th>\n",
       "      <td>1264</td>\n",
       "      <td>Yes</td>\n",
       "      <td>-1</td>\n",
       "      <td>-1</td>\n",
       "      <td>-1</td>\n",
       "      <td>No</td>\n",
       "      <td>NaN</td>\n",
       "      <td>43</td>\n",
       "    </tr>\n",
       "    <tr>\n",
       "      <th>4</th>\n",
       "      <td>1265</td>\n",
       "      <td>Yes</td>\n",
       "      <td>Yes</td>\n",
       "      <td>No</td>\n",
       "      <td>No</td>\n",
       "      <td>Yes, I experienced</td>\n",
       "      <td>NaN</td>\n",
       "      <td>43</td>\n",
       "    </tr>\n",
       "  </tbody>\n",
       "</table>\n",
       "</div>"
      ],
      "text/plain": [
       "     id  mhd                        benefits resources conversations  \\\n",
       "0  1261   No  Not eligible for coverage / NA        No           Yes   \n",
       "1  1262  Yes                              No       Yes           Yes   \n",
       "2  1263   No                              No        No         Maybe   \n",
       "3  1264  Yes                              -1        -1            -1   \n",
       "4  1265  Yes                             Yes        No            No   \n",
       "\n",
       "          poorsupport goodsupport age  \n",
       "0                  No         NaN  39  \n",
       "1                  No         NaN  29  \n",
       "2      Maybe/Not sure         NaN  38  \n",
       "3                  No         NaN  43  \n",
       "4  Yes, I experienced         NaN  43  "
      ]
     },
     "execution_count": 29,
     "metadata": {},
     "output_type": "execute_result"
    }
   ],
   "source": [
    "data = mhd.merge(benefits, how='outer', on='id')\n",
    "data = data.merge(resources, how='outer', on='id')\n",
    "data = data.merge(conversations, how='outer', on='id')\n",
    "data = data.merge(poor_support, how='outer', on='id')\n",
    "data = data.merge(good_support, how='outer', on='id')\n",
    "data = data.merge(age, how='outer', on='id')\n",
    "data.head()"
   ]
  },
  {
   "cell_type": "code",
   "execution_count": 30,
   "id": "a672f79b",
   "metadata": {},
   "outputs": [
    {
     "data": {
      "text/html": [
       "<div>\n",
       "<style scoped>\n",
       "    .dataframe tbody tr th:only-of-type {\n",
       "        vertical-align: middle;\n",
       "    }\n",
       "\n",
       "    .dataframe tbody tr th {\n",
       "        vertical-align: top;\n",
       "    }\n",
       "\n",
       "    .dataframe thead th {\n",
       "        text-align: right;\n",
       "    }\n",
       "</style>\n",
       "<table border=\"1\" class=\"dataframe\">\n",
       "  <thead>\n",
       "    <tr style=\"text-align: right;\">\n",
       "      <th></th>\n",
       "      <th>id</th>\n",
       "      <th>mhd</th>\n",
       "      <th>benefits</th>\n",
       "      <th>resources</th>\n",
       "      <th>conversations</th>\n",
       "      <th>poorsupport</th>\n",
       "      <th>goodsupport</th>\n",
       "      <th>age</th>\n",
       "    </tr>\n",
       "  </thead>\n",
       "  <tbody>\n",
       "    <tr>\n",
       "      <th>count</th>\n",
       "      <td>4218.000000</td>\n",
       "      <td>2958</td>\n",
       "      <td>4218</td>\n",
       "      <td>2958</td>\n",
       "      <td>2958</td>\n",
       "      <td>2958</td>\n",
       "      <td>1525</td>\n",
       "      <td>4218</td>\n",
       "    </tr>\n",
       "    <tr>\n",
       "      <th>unique</th>\n",
       "      <td>NaN</td>\n",
       "      <td>5</td>\n",
       "      <td>6</td>\n",
       "      <td>4</td>\n",
       "      <td>4</td>\n",
       "      <td>6</td>\n",
       "      <td>6</td>\n",
       "      <td>65</td>\n",
       "    </tr>\n",
       "    <tr>\n",
       "      <th>top</th>\n",
       "      <td>NaN</td>\n",
       "      <td>Yes</td>\n",
       "      <td>Yes</td>\n",
       "      <td>No</td>\n",
       "      <td>Yes</td>\n",
       "      <td>No</td>\n",
       "      <td>No</td>\n",
       "      <td>30</td>\n",
       "    </tr>\n",
       "    <tr>\n",
       "      <th>freq</th>\n",
       "      <td>NaN</td>\n",
       "      <td>1237</td>\n",
       "      <td>1744</td>\n",
       "      <td>1084</td>\n",
       "      <td>932</td>\n",
       "      <td>1207</td>\n",
       "      <td>541</td>\n",
       "      <td>250</td>\n",
       "    </tr>\n",
       "    <tr>\n",
       "      <th>mean</th>\n",
       "      <td>2109.500000</td>\n",
       "      <td>NaN</td>\n",
       "      <td>NaN</td>\n",
       "      <td>NaN</td>\n",
       "      <td>NaN</td>\n",
       "      <td>NaN</td>\n",
       "      <td>NaN</td>\n",
       "      <td>NaN</td>\n",
       "    </tr>\n",
       "    <tr>\n",
       "      <th>std</th>\n",
       "      <td>1217.776047</td>\n",
       "      <td>NaN</td>\n",
       "      <td>NaN</td>\n",
       "      <td>NaN</td>\n",
       "      <td>NaN</td>\n",
       "      <td>NaN</td>\n",
       "      <td>NaN</td>\n",
       "      <td>NaN</td>\n",
       "    </tr>\n",
       "    <tr>\n",
       "      <th>min</th>\n",
       "      <td>1.000000</td>\n",
       "      <td>NaN</td>\n",
       "      <td>NaN</td>\n",
       "      <td>NaN</td>\n",
       "      <td>NaN</td>\n",
       "      <td>NaN</td>\n",
       "      <td>NaN</td>\n",
       "      <td>NaN</td>\n",
       "    </tr>\n",
       "    <tr>\n",
       "      <th>25%</th>\n",
       "      <td>1055.250000</td>\n",
       "      <td>NaN</td>\n",
       "      <td>NaN</td>\n",
       "      <td>NaN</td>\n",
       "      <td>NaN</td>\n",
       "      <td>NaN</td>\n",
       "      <td>NaN</td>\n",
       "      <td>NaN</td>\n",
       "    </tr>\n",
       "    <tr>\n",
       "      <th>50%</th>\n",
       "      <td>2109.500000</td>\n",
       "      <td>NaN</td>\n",
       "      <td>NaN</td>\n",
       "      <td>NaN</td>\n",
       "      <td>NaN</td>\n",
       "      <td>NaN</td>\n",
       "      <td>NaN</td>\n",
       "      <td>NaN</td>\n",
       "    </tr>\n",
       "    <tr>\n",
       "      <th>75%</th>\n",
       "      <td>3163.750000</td>\n",
       "      <td>NaN</td>\n",
       "      <td>NaN</td>\n",
       "      <td>NaN</td>\n",
       "      <td>NaN</td>\n",
       "      <td>NaN</td>\n",
       "      <td>NaN</td>\n",
       "      <td>NaN</td>\n",
       "    </tr>\n",
       "    <tr>\n",
       "      <th>max</th>\n",
       "      <td>4218.000000</td>\n",
       "      <td>NaN</td>\n",
       "      <td>NaN</td>\n",
       "      <td>NaN</td>\n",
       "      <td>NaN</td>\n",
       "      <td>NaN</td>\n",
       "      <td>NaN</td>\n",
       "      <td>NaN</td>\n",
       "    </tr>\n",
       "  </tbody>\n",
       "</table>\n",
       "</div>"
      ],
      "text/plain": [
       "                 id   mhd benefits resources conversations poorsupport  \\\n",
       "count   4218.000000  2958     4218      2958          2958        2958   \n",
       "unique          NaN     5        6         4             4           6   \n",
       "top             NaN   Yes      Yes        No           Yes          No   \n",
       "freq            NaN  1237     1744      1084           932        1207   \n",
       "mean    2109.500000   NaN      NaN       NaN           NaN         NaN   \n",
       "std     1217.776047   NaN      NaN       NaN           NaN         NaN   \n",
       "min        1.000000   NaN      NaN       NaN           NaN         NaN   \n",
       "25%     1055.250000   NaN      NaN       NaN           NaN         NaN   \n",
       "50%     2109.500000   NaN      NaN       NaN           NaN         NaN   \n",
       "75%     3163.750000   NaN      NaN       NaN           NaN         NaN   \n",
       "max     4218.000000   NaN      NaN       NaN           NaN         NaN   \n",
       "\n",
       "       goodsupport   age  \n",
       "count         1525  4218  \n",
       "unique           6    65  \n",
       "top             No    30  \n",
       "freq           541   250  \n",
       "mean           NaN   NaN  \n",
       "std            NaN   NaN  \n",
       "min            NaN   NaN  \n",
       "25%            NaN   NaN  \n",
       "50%            NaN   NaN  \n",
       "75%            NaN   NaN  \n",
       "max            NaN   NaN  "
      ]
     },
     "execution_count": 30,
     "metadata": {},
     "output_type": "execute_result"
    }
   ],
   "source": [
    "data.describe(include='all')"
   ]
  },
  {
   "cell_type": "markdown",
   "id": "02d44d74",
   "metadata": {},
   "source": [
    "It looks like \"-1\" is their version of 'NA'. Let's do some cleaning of the rows. First, mental health diagnoses (mhd)."
   ]
  },
  {
   "cell_type": "markdown",
   "id": "d1c796a7",
   "metadata": {},
   "source": [
    "4. Cleaning columns"
   ]
  },
  {
   "cell_type": "code",
   "execution_count": 31,
   "id": "cd3053e8",
   "metadata": {},
   "outputs": [
    {
     "data": {
      "text/plain": [
       "Yes           1237\n",
       "No             969\n",
       "Maybe          327\n",
       "Possibly       301\n",
       "Don't Know     124\n",
       "Name: mhd, dtype: int64"
      ]
     },
     "execution_count": 31,
     "metadata": {},
     "output_type": "execute_result"
    }
   ],
   "source": [
    "data['mhd'].value_counts()"
   ]
  },
  {
   "cell_type": "code",
   "execution_count": 32,
   "id": "8d4580c1",
   "metadata": {},
   "outputs": [
    {
     "data": {
      "text/plain": [
       "Y    1865\n",
       "N    1093\n",
       "Name: mhd, dtype: int64"
      ]
     },
     "execution_count": 32,
     "metadata": {},
     "output_type": "execute_result"
    }
   ],
   "source": [
    "mappings = {'Yes':'Y',\n",
    "           'No':'N',\n",
    "           'Maybe':'Y',\n",
    "           'Possibly':'Y',\n",
    "           \"Don't Know\":'N'}\n",
    "\n",
    "data['mhd'] = data['mhd'].replace(mappings)\n",
    "data['mhd'].value_counts()"
   ]
  },
  {
   "cell_type": "code",
   "execution_count": 33,
   "id": "492bfa29",
   "metadata": {},
   "outputs": [
    {
     "data": {
      "text/plain": [
       "Yes                               1744\n",
       "No                                 756\n",
       "I don't know                       658\n",
       "-1                                 504\n",
       "Don't know                         408\n",
       "Not eligible for coverage / NA     148\n",
       "Name: benefits, dtype: int64"
      ]
     },
     "execution_count": 33,
     "metadata": {},
     "output_type": "execute_result"
    }
   ],
   "source": [
    "data['benefits'].value_counts()"
   ]
  },
  {
   "cell_type": "code",
   "execution_count": 34,
   "id": "15e0bf6f",
   "metadata": {},
   "outputs": [
    {
     "data": {
      "text/plain": [
       "Y    1744\n",
       "U    1066\n",
       "N     756\n",
       "Name: benefits, dtype: int64"
      ]
     },
     "execution_count": 34,
     "metadata": {},
     "output_type": "execute_result"
    }
   ],
   "source": [
    "mappings = {'Yes':'Y',\n",
    "           \"I don't know\": 'U',\n",
    "           '-1':np.nan,\n",
    "           'No':'N',\n",
    "            \"Don't know\":'U',\n",
    "           'Not eligible for coverage / NA': np.nan}\n",
    "\n",
    "data['benefits'] = data['benefits'].replace(mappings)\n",
    "data['benefits'].value_counts()"
   ]
  },
  {
   "cell_type": "code",
   "execution_count": 35,
   "id": "044ac208",
   "metadata": {},
   "outputs": [
    {
     "data": {
      "text/plain": [
       "No              1084\n",
       "Yes              702\n",
       "I don't know     668\n",
       "-1               504\n",
       "Name: resources, dtype: int64"
      ]
     },
     "execution_count": 35,
     "metadata": {},
     "output_type": "execute_result"
    }
   ],
   "source": [
    "data['resources'].value_counts()"
   ]
  },
  {
   "cell_type": "code",
   "execution_count": 36,
   "id": "9e576fac",
   "metadata": {},
   "outputs": [
    {
     "data": {
      "text/plain": [
       "N    1084\n",
       "Y     702\n",
       "U     668\n",
       "Name: resources, dtype: int64"
      ]
     },
     "execution_count": 36,
     "metadata": {},
     "output_type": "execute_result"
    }
   ],
   "source": [
    "mappings = {'No':'N',\n",
    "           'Yes':'Y',\n",
    "           \"I don't know\":'U',\n",
    "           '-1':np.nan}\n",
    "data['resources'] = data['resources'].replace(mappings)\n",
    "data['resources'].value_counts()"
   ]
  },
  {
   "cell_type": "code",
   "execution_count": 37,
   "id": "5926d0b8",
   "metadata": {},
   "outputs": [
    {
     "data": {
      "text/plain": [
       "Yes      932\n",
       "Maybe    815\n",
       "No       707\n",
       "-1       504\n",
       "Name: conversations, dtype: int64"
      ]
     },
     "execution_count": 37,
     "metadata": {},
     "output_type": "execute_result"
    }
   ],
   "source": [
    "data['conversations'].value_counts()"
   ]
  },
  {
   "cell_type": "code",
   "execution_count": 38,
   "id": "5c47f6f2",
   "metadata": {},
   "outputs": [
    {
     "data": {
      "text/plain": [
       "Y    1747\n",
       "N     707\n",
       "Name: conversations, dtype: int64"
      ]
     },
     "execution_count": 38,
     "metadata": {},
     "output_type": "execute_result"
    }
   ],
   "source": [
    "mappings = {'Yes':'Y',\n",
    "           'Maybe':'Y',\n",
    "           'No':'N',\n",
    "           '-1':np.nan}\n",
    "data['conversations'] = data['conversations'].replace(mappings)\n",
    "data['conversations'].value_counts()"
   ]
  },
  {
   "cell_type": "code",
   "execution_count": 39,
   "id": "0bc47867",
   "metadata": {},
   "outputs": [
    {
     "data": {
      "text/plain": [
       "No                                1207\n",
       "Maybe/Not sure                     748\n",
       "Yes, I observed                    541\n",
       "Yes, I experienced                 356\n",
       "-1                                  91\n",
       "I've always been self-employed      15\n",
       "Name: poorsupport, dtype: int64"
      ]
     },
     "execution_count": 39,
     "metadata": {},
     "output_type": "execute_result"
    }
   ],
   "source": [
    "data['poorsupport'].value_counts()"
   ]
  },
  {
   "cell_type": "code",
   "execution_count": 40,
   "id": "abade29f",
   "metadata": {},
   "outputs": [
    {
     "data": {
      "text/plain": [
       "N    1207\n",
       "Y     897\n",
       "U     748\n",
       "Name: poorsupport, dtype: int64"
      ]
     },
     "execution_count": 40,
     "metadata": {},
     "output_type": "execute_result"
    }
   ],
   "source": [
    "mappings = {'No':'N',\n",
    "           'Maybe/Not sure':'U',\n",
    "           'Yes, I observed':'Y',\n",
    "           'Yes, I experienced':'Y',\n",
    "           '-1':np.nan,\n",
    "           \"I've always been self-employed\":np.nan}\n",
    "data['poorsupport'] = data['poorsupport'].replace(mappings)\n",
    "data['poorsupport'].value_counts()"
   ]
  },
  {
   "cell_type": "code",
   "execution_count": 41,
   "id": "f196bd6b",
   "metadata": {},
   "outputs": [
    {
     "data": {
      "text/plain": [
       "No                                541\n",
       "Maybe/Not sure                    392\n",
       "Yes, I experienced                300\n",
       "Yes, I observed                   278\n",
       "I've always been self-employed     12\n",
       "-1                                  2\n",
       "Name: goodsupport, dtype: int64"
      ]
     },
     "execution_count": 41,
     "metadata": {},
     "output_type": "execute_result"
    }
   ],
   "source": [
    "data['goodsupport'].value_counts()"
   ]
  },
  {
   "cell_type": "code",
   "execution_count": 42,
   "id": "f97e7aaf",
   "metadata": {},
   "outputs": [
    {
     "data": {
      "text/plain": [
       "Y    578\n",
       "N    541\n",
       "U    392\n",
       "Name: goodsupport, dtype: int64"
      ]
     },
     "execution_count": 42,
     "metadata": {},
     "output_type": "execute_result"
    }
   ],
   "source": [
    "mappings = {'No':'N',\n",
    "           'Maybe/Not sure':'U',\n",
    "           'Yes, I observed':'Y',\n",
    "           'Yes, I experienced':'Y',\n",
    "           '-1':np.nan,\n",
    "           \"I've always been self-employed\":np.nan}\n",
    "data['goodsupport'] = data['goodsupport'].replace(mappings)\n",
    "data['goodsupport'].value_counts()"
   ]
  },
  {
   "cell_type": "code",
   "execution_count": 43,
   "id": "a16ab6c8",
   "metadata": {},
   "outputs": [
    {
     "data": {
      "text/plain": [
       "count     4218\n",
       "unique      65\n",
       "top         30\n",
       "freq       250\n",
       "Name: age, dtype: object"
      ]
     },
     "execution_count": 43,
     "metadata": {},
     "output_type": "execute_result"
    }
   ],
   "source": [
    "data['age'].describe()"
   ]
  },
  {
   "cell_type": "code",
   "execution_count": 44,
   "id": "c94100b0",
   "metadata": {},
   "outputs": [
    {
     "data": {
      "text/plain": [
       "count    4218.000000\n",
       "mean       33.915363\n",
       "std        10.478054\n",
       "min       -29.000000\n",
       "25%        28.000000\n",
       "50%        33.000000\n",
       "75%        38.000000\n",
       "max       329.000000\n",
       "Name: age, dtype: float64"
      ]
     },
     "execution_count": 44,
     "metadata": {},
     "output_type": "execute_result"
    }
   ],
   "source": [
    "data['age'] = data['age'].astype(\"int64\")\n",
    "data['age'].describe() #converting from object to int "
   ]
  },
  {
   "cell_type": "code",
   "execution_count": 45,
   "id": "bbde18b1",
   "metadata": {},
   "outputs": [
    {
     "data": {
      "text/plain": [
       "count    4210.000000\n",
       "mean       33.833017\n",
       "std         8.189018\n",
       "min         0.000000\n",
       "25%        28.000000\n",
       "50%        33.000000\n",
       "75%        38.000000\n",
       "max        99.000000\n",
       "Name: age, dtype: float64"
      ]
     },
     "execution_count": 45,
     "metadata": {},
     "output_type": "execute_result"
    }
   ],
   "source": [
    "data['age'] = np.where(data['age'] < 0, np.nan, data['age'])\n",
    "data['age'] = np.where(data['age'] > 100, np.nan, data['age'])\n",
    "data['age'].describe() #converting outliers to np.nan"
   ]
  },
  {
   "cell_type": "code",
   "execution_count": 46,
   "id": "697c1f56",
   "metadata": {},
   "outputs": [
    {
     "data": {
      "text/plain": [
       "(array([4.000e+00, 3.200e+01, 1.352e+03, 1.932e+03, 6.950e+02, 1.610e+02,\n",
       "        3.000e+01, 3.000e+00, 0.000e+00, 1.000e+00]),\n",
       " array([ 0. ,  9.9, 19.8, 29.7, 39.6, 49.5, 59.4, 69.3, 79.2, 89.1, 99. ]),\n",
       " <BarContainer object of 10 artists>)"
      ]
     },
     "execution_count": 46,
     "metadata": {},
     "output_type": "execute_result"
    },
    {
     "data": {
      "image/png": "[encoded data removed]",
      "text/plain": [
       "<Figure size 640x480 with 1 Axes>"
      ]
     },
     "metadata": {},
     "output_type": "display_data"
    }
   ],
   "source": [
    "plt.hist(data['age'])"
   ]
  },
  {
   "cell_type": "markdown",
   "id": "aec66714",
   "metadata": {},
   "source": [
    "Now, for our descriptive analyses. Let's take a look and see if mental health diagnoses and support differ across age. Starting with mental health diagnoses."
   ]
  },
  {
   "cell_type": "code",
   "execution_count": 47,
   "id": "987ee116",
   "metadata": {},
   "outputs": [
    {
     "data": {
      "image/png": "[encoded data removed]",
      "text/plain": [
       "<Figure size 640x480 with 1 Axes>"
      ]
     },
     "metadata": {},
     "output_type": "display_data"
    }
   ],
   "source": [
    "plt.hist([data.loc[data[\"mhd\"] == \"Y\" , \"age\"], \n",
    "         data.loc[data[\"mhd\"] == \"N\" , \"age\"]], \n",
    "         color=['g','r'], \n",
    "         alpha=0.8, \n",
    "         bins=50) #adjust bins \n",
    "plt.show()"
   ]
  },
  {
   "cell_type": "code",
   "execution_count": 48,
   "id": "98ce9914",
   "metadata": {},
   "outputs": [
    {
     "name": "stdout",
     "output_type": "stream",
     "text": [
      "0.5359194143095152 0.46426723833292227\n"
     ]
    }
   ],
   "source": [
    "#checking for normality of the two distributions. \n",
    "#Meets the assumptions, t-test is appropriate. \n",
    "#note, bug in the program so we have to remove np.nan \n",
    "stat, p = scipy.stats.levene(data.dropna().loc[data['mhd'] == \"Y\", \"age\"],\n",
    "                            data.dropna().loc[data['mhd'] == \"N\", \"age\"]) #variance assumption\n",
    "print(stat, p)"
   ]
  },
  {
   "cell_type": "code",
   "execution_count": 49,
   "id": "c474cfe6",
   "metadata": {},
   "outputs": [
    {
     "data": {
      "image/png": "[encoded data removed]",
      "text/plain": [
       "<Figure size 640x480 with 1 Axes>"
      ]
     },
     "metadata": {},
     "output_type": "display_data"
    }
   ],
   "source": [
    "plt.hist([data.loc[data[\"mhd\"] == \"Y\" , \"age\"], \n",
    "         data.loc[data[\"mhd\"] == \"N\" , \"age\"]], \n",
    "         color=['g','r'], \n",
    "         alpha=0.8, \n",
    "         bins=50) #adjust bins \n",
    "plt.show()"
   ]
  },
  {
   "cell_type": "code",
   "execution_count": 50,
   "id": "f6ac6eb6",
   "metadata": {},
   "outputs": [
    {
     "data": {
      "image/png": "[encoded data removed]",
      "text/plain": [
       "<Figure size 640x480 with 1 Axes>"
      ]
     },
     "metadata": {},
     "output_type": "display_data"
    }
   ],
   "source": [
    "plt.hist([data.loc[data[\"resources\"] == \"Y\" , \"age\"], \n",
    "         data.loc[data[\"resources\"] == \"N\" , \"age\"],\n",
    "         data.loc[data['resources'] == \"U\", \"age\"]], \n",
    "         color=['g','r', 'b'], \n",
    "         alpha=0.8, \n",
    "         bins=50) #adjust bins \n",
    "plt.show()"
   ]
  },
  {
   "cell_type": "code",
   "execution_count": 51,
   "id": "45189fa7",
   "metadata": {},
   "outputs": [
    {
     "name": "stdout",
     "output_type": "stream",
     "text": [
      "1.5912920625184774 0.20407858126547815\n"
     ]
    }
   ],
   "source": [
    "#variance assumptions. \n",
    "stat, p = scipy.stats.levene(data.dropna().loc[data['resources'] == \"Y\", \"age\"],\n",
    "                            data.dropna().loc[data['resources'] == \"N\", \"age\"],\n",
    "                            data.dropna().loc[data['resources'] == 'U', 'age']) #variance assumption\n",
    "print(stat, p) #normal"
   ]
  },
  {
   "cell_type": "markdown",
   "id": "f5bbb1ff",
   "metadata": {},
   "source": [
    "Question: How does mental health diagnoses and support differ across gender?"
   ]
  },
  {
   "cell_type": "code",
   "execution_count": 52,
   "id": "91440bf1",
   "metadata": {},
   "outputs": [
    {
     "data": {
      "text/html": [
       "<div>\n",
       "<style scoped>\n",
       "    .dataframe tbody tr th:only-of-type {\n",
       "        vertical-align: middle;\n",
       "    }\n",
       "\n",
       "    .dataframe tbody tr th {\n",
       "        vertical-align: top;\n",
       "    }\n",
       "\n",
       "    .dataframe thead th {\n",
       "        text-align: right;\n",
       "    }\n",
       "</style>\n",
       "<table border=\"1\" class=\"dataframe\">\n",
       "  <thead>\n",
       "    <tr style=\"text-align: right;\">\n",
       "      <th></th>\n",
       "      <th>gender</th>\n",
       "      <th>id</th>\n",
       "    </tr>\n",
       "  </thead>\n",
       "  <tbody>\n",
       "    <tr>\n",
       "      <th>0</th>\n",
       "      <td>Female</td>\n",
       "      <td>1</td>\n",
       "    </tr>\n",
       "    <tr>\n",
       "      <th>1</th>\n",
       "      <td>Male</td>\n",
       "      <td>2</td>\n",
       "    </tr>\n",
       "    <tr>\n",
       "      <th>2</th>\n",
       "      <td>Male</td>\n",
       "      <td>3</td>\n",
       "    </tr>\n",
       "    <tr>\n",
       "      <th>3</th>\n",
       "      <td>Male</td>\n",
       "      <td>4</td>\n",
       "    </tr>\n",
       "    <tr>\n",
       "      <th>4</th>\n",
       "      <td>Male</td>\n",
       "      <td>5</td>\n",
       "    </tr>\n",
       "  </tbody>\n",
       "</table>\n",
       "</div>"
      ],
      "text/plain": [
       "   gender  id\n",
       "0  Female   1\n",
       "1    Male   2\n",
       "2    Male   3\n",
       "3    Male   4\n",
       "4    Male   5"
      ]
     },
     "execution_count": 52,
     "metadata": {},
     "output_type": "execute_result"
    }
   ],
   "source": [
    "gender = pd.read_sql_query('''\n",
    "SELECT AnswerText AS gender, UserID AS id\n",
    "FROM Answer\n",
    "WHERE QuestionID = 2;\n",
    "''', con)\n",
    "gender.head()"
   ]
  },
  {
   "cell_type": "code",
   "execution_count": 53,
   "id": "8c2ae479",
   "metadata": {},
   "outputs": [
    {
     "data": {
      "text/html": [
       "<div>\n",
       "<style scoped>\n",
       "    .dataframe tbody tr th:only-of-type {\n",
       "        vertical-align: middle;\n",
       "    }\n",
       "\n",
       "    .dataframe tbody tr th {\n",
       "        vertical-align: top;\n",
       "    }\n",
       "\n",
       "    .dataframe thead th {\n",
       "        text-align: right;\n",
       "    }\n",
       "</style>\n",
       "<table border=\"1\" class=\"dataframe\">\n",
       "  <thead>\n",
       "    <tr style=\"text-align: right;\">\n",
       "      <th></th>\n",
       "      <th>id</th>\n",
       "      <th>mhd</th>\n",
       "      <th>benefits</th>\n",
       "      <th>resources</th>\n",
       "      <th>conversations</th>\n",
       "      <th>poorsupport</th>\n",
       "      <th>goodsupport</th>\n",
       "      <th>age</th>\n",
       "      <th>gender</th>\n",
       "    </tr>\n",
       "  </thead>\n",
       "  <tbody>\n",
       "    <tr>\n",
       "      <th>0</th>\n",
       "      <td>1261</td>\n",
       "      <td>N</td>\n",
       "      <td>NaN</td>\n",
       "      <td>N</td>\n",
       "      <td>Y</td>\n",
       "      <td>N</td>\n",
       "      <td>NaN</td>\n",
       "      <td>39.0</td>\n",
       "      <td>Male</td>\n",
       "    </tr>\n",
       "    <tr>\n",
       "      <th>1</th>\n",
       "      <td>1262</td>\n",
       "      <td>Y</td>\n",
       "      <td>N</td>\n",
       "      <td>Y</td>\n",
       "      <td>Y</td>\n",
       "      <td>N</td>\n",
       "      <td>NaN</td>\n",
       "      <td>29.0</td>\n",
       "      <td>Male</td>\n",
       "    </tr>\n",
       "    <tr>\n",
       "      <th>2</th>\n",
       "      <td>1263</td>\n",
       "      <td>N</td>\n",
       "      <td>N</td>\n",
       "      <td>N</td>\n",
       "      <td>Y</td>\n",
       "      <td>U</td>\n",
       "      <td>NaN</td>\n",
       "      <td>38.0</td>\n",
       "      <td>Male</td>\n",
       "    </tr>\n",
       "    <tr>\n",
       "      <th>3</th>\n",
       "      <td>1264</td>\n",
       "      <td>Y</td>\n",
       "      <td>NaN</td>\n",
       "      <td>NaN</td>\n",
       "      <td>NaN</td>\n",
       "      <td>N</td>\n",
       "      <td>NaN</td>\n",
       "      <td>43.0</td>\n",
       "      <td>Male</td>\n",
       "    </tr>\n",
       "    <tr>\n",
       "      <th>4</th>\n",
       "      <td>1265</td>\n",
       "      <td>Y</td>\n",
       "      <td>Y</td>\n",
       "      <td>N</td>\n",
       "      <td>N</td>\n",
       "      <td>Y</td>\n",
       "      <td>NaN</td>\n",
       "      <td>43.0</td>\n",
       "      <td>Female</td>\n",
       "    </tr>\n",
       "  </tbody>\n",
       "</table>\n",
       "</div>"
      ],
      "text/plain": [
       "     id mhd benefits resources conversations poorsupport goodsupport   age  \\\n",
       "0  1261   N      NaN         N             Y           N         NaN  39.0   \n",
       "1  1262   Y        N         Y             Y           N         NaN  29.0   \n",
       "2  1263   N        N         N             Y           U         NaN  38.0   \n",
       "3  1264   Y      NaN       NaN           NaN           N         NaN  43.0   \n",
       "4  1265   Y        Y         N             N           Y         NaN  43.0   \n",
       "\n",
       "   gender  \n",
       "0    Male  \n",
       "1    Male  \n",
       "2    Male  \n",
       "3    Male  \n",
       "4  Female  "
      ]
     },
     "execution_count": 53,
     "metadata": {},
     "output_type": "execute_result"
    }
   ],
   "source": [
    "data = data.merge(gender, how=\"outer\", on=\"id\")\n",
    "data.head()"
   ]
  },
  {
   "cell_type": "code",
   "execution_count": 54,
   "id": "f2904c06",
   "metadata": {},
   "outputs": [
    {
     "data": {
      "text/plain": [
       "count     4218\n",
       "unique     101\n",
       "top       Male\n",
       "freq      2830\n",
       "Name: gender, dtype: object"
      ]
     },
     "execution_count": 54,
     "metadata": {},
     "output_type": "execute_result"
    }
   ],
   "source": [
    "data['gender'].describe()"
   ]
  },
  {
   "cell_type": "code",
   "execution_count": 55,
   "id": "3159732b",
   "metadata": {},
   "outputs": [
    {
     "data": {
      "text/plain": [
       "Male                                              2830\n",
       "Female                                             914\n",
       "male                                               212\n",
       "female                                             110\n",
       "-1                                                  24\n",
       "                                                  ... \n",
       "male/androgynous                                     1\n",
       "Transgender woman                                    1\n",
       "AFAB                                                 1\n",
       "female-bodied; no feelings about gender              1\n",
       "ostensibly male, unsure what that really means       1\n",
       "Name: gender, Length: 101, dtype: int64"
      ]
     },
     "execution_count": 55,
     "metadata": {},
     "output_type": "execute_result"
    }
   ],
   "source": [
    "data['gender'].value_counts()"
   ]
  },
  {
   "cell_type": "code",
   "execution_count": 56,
   "id": "690e25a3",
   "metadata": {},
   "outputs": [
    {
     "name": "stdout",
     "output_type": "stream",
     "text": [
      "male 3043\n",
      "female 1024\n",
      "-1 24\n",
      "nonbinary 9\n",
      "non-binary 9\n",
      "agender 6\n",
      "genderqueer 5\n",
      "genderfluid 4\n",
      "none 4\n",
      "trans woman 3\n",
      "non binary 3\n",
      "human 2\n",
      "male-ish 2\n",
      "female (trans) 2\n",
      "fluid 2\n",
      "queer 2\n",
      "enby 2\n",
      "trans man 2\n",
      "other 2\n",
      "i have a penis 1\n",
      "p 1\n",
      "nb 1\n",
      "swm 1\n",
      "she/her/they/them 1\n",
      "trans female 1\n",
      "nonbinary/femme 1\n",
      "gender non-conforming woman 1\n",
      "masculine 1\n",
      "demiguy 1\n",
      "female/gender non-binary. 1\n",
      "cishet male 1\n",
      "female-identified 1\n",
      "questioning 1\n",
      "a little about you 1\n",
      "rr 1\n",
      "agender trans woman 1\n",
      "neuter 1\n",
      "male leaning androgynous 1\n",
      "guy (-ish) ^_^ 1\n",
      "androgyne 1\n",
      "all 1\n",
      "nah 1\n",
      "queer/she/they 1\n",
      "something kinda male? 1\n",
      "trans-female 1\n",
      "non-binary and gender fluid 1\n",
      "trans non-binary/genderfluid 1\n",
      "transgender 1\n",
      "i am a wookie 1\n",
      "43 1\n",
      "femmina 1\n",
      "masculino 1\n",
      "genderqueer/non-binary 1\n",
      "male (or female, or both) 1\n",
      "androgynous 1\n",
      "male/genderqueer 1\n",
      "mtf 1\n",
      "genderqueer woman 1\n",
      "none of your business 1\n",
      "nb masculine 1\n",
      "male 9:1 female, roughly 1\n",
      "female or multi-gender femme 1\n",
      "ostensibly male 1\n",
      "other/transfeminine 1\n",
      "genderfluid (born female) 1\n",
      "transitioned, m2f 1\n",
      "fm 1\n",
      "female assigned at birth 1\n",
      "bigender 1\n",
      "unicorn 1\n",
      "male (trans, ftm) 1\n",
      "genderflux demi-girl 1\n",
      "female-bodied; no feelings about gender 1\n",
      "afab 1\n",
      "transgender woman 1\n",
      "male/androgynous 1\n",
      "uhhhhhhhhh fem genderqueer? 1\n",
      "god king of the valajar 1\n",
      "agender/genderfluid 1\n",
      "sometimes 1\n",
      "woman-identified 1\n",
      "contextual 1\n",
      "genderqueer demigirl 1\n",
      "female-ish 1\n",
      "\\- 1\n",
      "transfeminine 1\n",
      "ostensibly male, unsure what that really means 1\n"
     ]
    }
   ],
   "source": [
    "data['gender'] = data['gender'].str.lower()\n",
    "counts = data['gender'].value_counts()\n",
    "\n",
    "for name, item in counts.items(): \n",
    "    print(name, item)"
   ]
  },
  {
   "cell_type": "code",
   "execution_count": 57,
   "id": "64ee12c0",
   "metadata": {},
   "outputs": [
    {
     "data": {
      "text/plain": [
       "male         3043\n",
       "female       1024\n",
       "nonbinary     127\n",
       "Name: gender, dtype: int64"
      ]
     },
     "execution_count": 57,
     "metadata": {},
     "output_type": "execute_result"
    }
   ],
   "source": [
    "#Reducing down to 'male', 'female' and 'other'. \n",
    "#Did not use partial matching. \n",
    "mappings = {'-1':np.nan}\n",
    "data['gender'] = data['gender'].replace(mappings)\n",
    "data.loc[~data['gender'].isin(['male', 'female', np.nan]), 'gender'] = \"nonbinary\"\n",
    "data['gender'].value_counts()"
   ]
  },
  {
   "cell_type": "code",
   "execution_count": 58,
   "id": "8d3a9f11",
   "metadata": {},
   "outputs": [
    {
     "data": {
      "text/plain": [
       "<seaborn.axisgrid.FacetGrid at 0x1df25163790>"
      ]
     },
     "execution_count": 58,
     "metadata": {},
     "output_type": "execute_result"
    },
    {
     "data": {
      "image/png": "[encoded data removed]",
      "text/plain": [
       "<Figure size 620.125x500 with 1 Axes>"
      ]
     },
     "metadata": {},
     "output_type": "display_data"
    }
   ],
   "source": [
    "#visualization of mental health by gender. \n",
    "sb.catplot(kind='count', \n",
    "           data=data, \n",
    "           y='mhd', hue='gender', \n",
    "           palette=[\"r\", \"b\", \"y\"])"
   ]
  },
  {
   "cell_type": "code",
   "execution_count": 59,
   "id": "e2588aba",
   "metadata": {},
   "outputs": [
    {
     "name": "stdout",
     "output_type": "stream",
     "text": [
      "Collecting researchpy\n",
      "  Downloading researchpy-0.3.5-py3-none-any.whl (33 kB)\n",
      "Requirement already satisfied: scipy in c:\\users\\ishit\\anaconda3\\lib\\site-packages (from researchpy) (1.10.0)\n",
      "Requirement already satisfied: numpy in c:\\users\\ishit\\anaconda3\\lib\\site-packages (from researchpy) (1.23.5)\n",
      "Requirement already satisfied: statsmodels in c:\\users\\ishit\\anaconda3\\lib\\site-packages (from researchpy) (0.13.5)\n",
      "Requirement already satisfied: patsy in c:\\users\\ishit\\anaconda3\\lib\\site-packages (from researchpy) (0.5.3)\n",
      "Requirement already satisfied: pandas in c:\\users\\ishit\\anaconda3\\lib\\site-packages (from researchpy) (1.5.3)\n",
      "Requirement already satisfied: pytz>=2020.1 in c:\\users\\ishit\\anaconda3\\lib\\site-packages (from pandas->researchpy) (2022.7)\n",
      "Requirement already satisfied: python-dateutil>=2.8.1 in c:\\users\\ishit\\anaconda3\\lib\\site-packages (from pandas->researchpy) (2.8.2)\n",
      "Requirement already satisfied: six in c:\\users\\ishit\\anaconda3\\lib\\site-packages (from patsy->researchpy) (1.16.0)\n",
      "Requirement already satisfied: packaging>=21.3 in c:\\users\\ishit\\anaconda3\\lib\\site-packages (from statsmodels->researchpy) (22.0)\n",
      "Installing collected packages: researchpy\n",
      "Successfully installed researchpy-0.3.5\n"
     ]
    }
   ],
   "source": [
    "#chi-square test\n",
    "from scipy.stats import chi2_contingency\n",
    "!pip install researchpy\n",
    "import researchpy"
   ]
  },
  {
   "cell_type": "code",
   "execution_count": 60,
   "id": "84a24d3a",
   "metadata": {},
   "outputs": [
    {
     "name": "stdout",
     "output_type": "stream",
     "text": [
      "                Chi-square test  results\n",
      "0  Pearson Chi-square ( 2.0) =   64.4671\n",
      "1                    p-value =    0.0000\n",
      "2                 Cramer's V =    0.1482\n"
     ]
    }
   ],
   "source": [
    "crosstab, test_results, expected = researchpy.crosstab(data['mhd'], \n",
    "                                               data['gender'],\n",
    "                                                      test=\"chi-square\",\n",
    "                                                      expected_freqs=True,\n",
    "                                                      prop=\"cell\")\n",
    "print(test_results) #p-value w/ small relationship"
   ]
  },
  {
   "cell_type": "code",
   "execution_count": 61,
   "id": "ba6091a6",
   "metadata": {},
   "outputs": [
    {
     "name": "stdout",
     "output_type": "stream",
     "text": [
      "gender  female  male  nonbinary\n",
      "mhd                            \n",
      "N          219   850         16\n",
      "Y          558  1202         89\n",
      "mhd\n",
      "N    0.281853\n",
      "Y    0.718147\n",
      "Name: female, dtype: float64\n",
      "mhd\n",
      "N    0.41423\n",
      "Y    0.58577\n",
      "Name: male, dtype: float64\n",
      "mhd\n",
      "N    0.152381\n",
      "Y    0.847619\n",
      "Name: nonbinary, dtype: float64\n"
     ]
    }
   ],
   "source": [
    "table = pd.crosstab(data['mhd'], data['gender'])\n",
    "print(table)\n",
    "\n",
    "#percentages.\n",
    "for column in table:\n",
    "    print(table[column] / sum(table[column]))"
   ]
  },
  {
   "cell_type": "markdown",
   "id": "c41282f1",
   "metadata": {},
   "source": [
    "So, mental health diagnoses are significantly different across gender. Based on the proportions, it looks like there are more people with mental health disorders than no mental health disorders. Relative to males, females and non-binary individuals have higher proportions of mental health disorders.\n",
    "\n",
    "Now, what about mental health benefits and resources?"
   ]
  },
  {
   "cell_type": "code",
   "execution_count": 62,
   "id": "20085b00",
   "metadata": {},
   "outputs": [
    {
     "name": "stdout",
     "output_type": "stream",
     "text": [
      "                Chi-square test  results\n",
      "0  Pearson Chi-square ( 4.0) =   82.3378\n",
      "1                    p-value =    0.0000\n",
      "2                 Cramer's V =    0.1076\n",
      "gender    female  male  nonbinary\n",
      "benefits                         \n",
      "N            118   624         14\n",
      "U            225   815         22\n",
      "Y            524  1150         61\n",
      "benefits\n",
      "N    13.610150\n",
      "U    25.951557\n",
      "Y    60.438293\n",
      "Name: female, dtype: float64\n",
      "benefits\n",
      "N    24.101970\n",
      "U    31.479336\n",
      "Y    44.418694\n",
      "Name: male, dtype: float64\n",
      "benefits\n",
      "N    14.432990\n",
      "U    22.680412\n",
      "Y    62.886598\n",
      "Name: nonbinary, dtype: float64\n"
     ]
    },
    {
     "data": {
      "image/png": "[encoded data removed]",
      "text/plain": [
       "<Figure size 620.125x500 with 1 Axes>"
      ]
     },
     "metadata": {},
     "output_type": "display_data"
    }
   ],
   "source": [
    "#visualization.\n",
    "sb.catplot(kind='count', \n",
    "           data=data, \n",
    "           y='benefits', hue='gender', \n",
    "           palette=[\"r\", \"b\", \"y\"])\n",
    "\n",
    "#Chi-squared test\n",
    "crosstab, test_results, expected = researchpy.crosstab(data['benefits'], \n",
    "                                               data['gender'],\n",
    "                                                      test=\"chi-square\",\n",
    "                                                      expected_freqs=True,\n",
    "                                                      prop=\"cell\")\n",
    "print(test_results) #p-value w/ small relationship\n",
    "\n",
    "#Percentages. \n",
    "table = pd.crosstab(data['benefits'], data['gender'])\n",
    "print(table)\n",
    "\n",
    "for column in table:\n",
    "    print((table[column] / sum(table[column])*100))"
   ]
  },
  {
   "cell_type": "code",
   "execution_count": 63,
   "id": "2df10406",
   "metadata": {},
   "outputs": [
    {
     "name": "stdout",
     "output_type": "stream",
     "text": [
      "                Chi-square test  results\n",
      "0  Pearson Chi-square ( 4.0) =   26.2377\n",
      "1                    p-value =    0.0000\n",
      "2                 Cramer's V =    0.0733\n",
      "gender     female  male  nonbinary\n",
      "resources                         \n",
      "N             274   760         42\n",
      "U             148   497         22\n",
      "Y             235   436         25\n",
      "resources\n",
      "N    41.704718\n",
      "U    22.526636\n",
      "Y    35.768645\n",
      "Name: female, dtype: float64\n",
      "resources\n",
      "N    44.890727\n",
      "U    29.356172\n",
      "Y    25.753101\n",
      "Name: male, dtype: float64\n",
      "resources\n",
      "N    47.191011\n",
      "U    24.719101\n",
      "Y    28.089888\n",
      "Name: nonbinary, dtype: float64\n"
     ]
    },
    {
     "data": {
      "image/png": "[encoded data removed]",
      "text/plain": [
       "<Figure size 620.125x500 with 1 Axes>"
      ]
     },
     "metadata": {},
     "output_type": "display_data"
    }
   ],
   "source": [
    "#visualization.\n",
    "sb.catplot(kind='count', \n",
    "           data=data, \n",
    "           y='resources', hue='gender', \n",
    "           palette=[\"r\", \"b\", \"y\"])\n",
    "\n",
    "#Chi-squared test\n",
    "crosstab, test_results, expected = researchpy.crosstab(data['resources'], \n",
    "                                               data['gender'],\n",
    "                                                      test=\"chi-square\",\n",
    "                                                      expected_freqs=True,\n",
    "                                                      prop=\"cell\")\n",
    "print(test_results) #p-value w/ small relationship\n",
    "\n",
    "#Percentages.\n",
    "table = pd.crosstab(data['resources'], data['gender'])\n",
    "print(table)\n",
    "\n",
    "for column in table:\n",
    "    print((table[column] / sum(table[column])*100))"
   ]
  },
  {
   "cell_type": "markdown",
   "id": "3510966c",
   "metadata": {},
   "source": [
    "Interesting! So, while females and nonbinary individuals have higher proportions of mental health diagnoses, they also have a high proportion of mental health benefits and resources compared to males. Let's take a look at mental health conversations."
   ]
  },
  {
   "cell_type": "markdown",
   "id": "9538d334",
   "metadata": {},
   "source": [
    "Now, onto job type! Let's look at mental health diagnoses, benefits, and support across job type."
   ]
  },
  {
   "cell_type": "code",
   "execution_count": 65,
   "id": "e4e0fe90",
   "metadata": {},
   "outputs": [
    {
     "data": {
      "text/html": [
       "<div>\n",
       "<style scoped>\n",
       "    .dataframe tbody tr th:only-of-type {\n",
       "        vertical-align: middle;\n",
       "    }\n",
       "\n",
       "    .dataframe tbody tr th {\n",
       "        vertical-align: top;\n",
       "    }\n",
       "\n",
       "    .dataframe thead th {\n",
       "        text-align: right;\n",
       "    }\n",
       "</style>\n",
       "<table border=\"1\" class=\"dataframe\">\n",
       "  <thead>\n",
       "    <tr style=\"text-align: right;\">\n",
       "      <th></th>\n",
       "      <th>job</th>\n",
       "      <th>id</th>\n",
       "    </tr>\n",
       "  </thead>\n",
       "  <tbody>\n",
       "    <tr>\n",
       "      <th>0</th>\n",
       "      <td>Back-end Developer</td>\n",
       "      <td>1261</td>\n",
       "    </tr>\n",
       "    <tr>\n",
       "      <th>1</th>\n",
       "      <td>Back-end Developer</td>\n",
       "      <td>1262</td>\n",
       "    </tr>\n",
       "    <tr>\n",
       "      <th>2</th>\n",
       "      <td>Front-end Developer</td>\n",
       "      <td>1262</td>\n",
       "    </tr>\n",
       "    <tr>\n",
       "      <th>3</th>\n",
       "      <td>Back-end Developer</td>\n",
       "      <td>1263</td>\n",
       "    </tr>\n",
       "    <tr>\n",
       "      <th>4</th>\n",
       "      <td>Supervisor/Team Lead</td>\n",
       "      <td>1264</td>\n",
       "    </tr>\n",
       "  </tbody>\n",
       "</table>\n",
       "</div>"
      ],
      "text/plain": [
       "                    job    id\n",
       "0    Back-end Developer  1261\n",
       "1    Back-end Developer  1262\n",
       "2   Front-end Developer  1262\n",
       "3    Back-end Developer  1263\n",
       "4  Supervisor/Team Lead  1264"
      ]
     },
     "execution_count": 65,
     "metadata": {},
     "output_type": "execute_result"
    }
   ],
   "source": [
    "job = pd.read_sql_query('''\n",
    "SELECT AnswerText AS job, UserID AS id\n",
    "FROM Answer\n",
    "WHERE QuestionID=117;\n",
    "''', con)\n",
    "job.head()"
   ]
  },
  {
   "cell_type": "code",
   "execution_count": 66,
   "id": "d8316b92",
   "metadata": {},
   "outputs": [
    {
     "data": {
      "text/html": [
       "<div>\n",
       "<style scoped>\n",
       "    .dataframe tbody tr th:only-of-type {\n",
       "        vertical-align: middle;\n",
       "    }\n",
       "\n",
       "    .dataframe tbody tr th {\n",
       "        vertical-align: top;\n",
       "    }\n",
       "\n",
       "    .dataframe thead th {\n",
       "        text-align: right;\n",
       "    }\n",
       "</style>\n",
       "<table border=\"1\" class=\"dataframe\">\n",
       "  <thead>\n",
       "    <tr style=\"text-align: right;\">\n",
       "      <th></th>\n",
       "      <th>id</th>\n",
       "      <th>mhd</th>\n",
       "      <th>benefits</th>\n",
       "      <th>resources</th>\n",
       "      <th>conversations</th>\n",
       "      <th>poorsupport</th>\n",
       "      <th>goodsupport</th>\n",
       "      <th>age</th>\n",
       "      <th>gender</th>\n",
       "      <th>job</th>\n",
       "    </tr>\n",
       "  </thead>\n",
       "  <tbody>\n",
       "    <tr>\n",
       "      <th>0</th>\n",
       "      <td>1261</td>\n",
       "      <td>N</td>\n",
       "      <td>NaN</td>\n",
       "      <td>N</td>\n",
       "      <td>Y</td>\n",
       "      <td>N</td>\n",
       "      <td>NaN</td>\n",
       "      <td>39.0</td>\n",
       "      <td>male</td>\n",
       "      <td>Back-end Developer</td>\n",
       "    </tr>\n",
       "    <tr>\n",
       "      <th>1</th>\n",
       "      <td>1262</td>\n",
       "      <td>Y</td>\n",
       "      <td>N</td>\n",
       "      <td>Y</td>\n",
       "      <td>Y</td>\n",
       "      <td>N</td>\n",
       "      <td>NaN</td>\n",
       "      <td>29.0</td>\n",
       "      <td>male</td>\n",
       "      <td>Back-end Developer</td>\n",
       "    </tr>\n",
       "    <tr>\n",
       "      <th>2</th>\n",
       "      <td>1262</td>\n",
       "      <td>Y</td>\n",
       "      <td>N</td>\n",
       "      <td>Y</td>\n",
       "      <td>Y</td>\n",
       "      <td>N</td>\n",
       "      <td>NaN</td>\n",
       "      <td>29.0</td>\n",
       "      <td>male</td>\n",
       "      <td>Front-end Developer</td>\n",
       "    </tr>\n",
       "    <tr>\n",
       "      <th>3</th>\n",
       "      <td>1263</td>\n",
       "      <td>N</td>\n",
       "      <td>N</td>\n",
       "      <td>N</td>\n",
       "      <td>Y</td>\n",
       "      <td>U</td>\n",
       "      <td>NaN</td>\n",
       "      <td>38.0</td>\n",
       "      <td>male</td>\n",
       "      <td>Back-end Developer</td>\n",
       "    </tr>\n",
       "    <tr>\n",
       "      <th>4</th>\n",
       "      <td>1264</td>\n",
       "      <td>Y</td>\n",
       "      <td>NaN</td>\n",
       "      <td>NaN</td>\n",
       "      <td>NaN</td>\n",
       "      <td>N</td>\n",
       "      <td>NaN</td>\n",
       "      <td>43.0</td>\n",
       "      <td>male</td>\n",
       "      <td>Supervisor/Team Lead</td>\n",
       "    </tr>\n",
       "  </tbody>\n",
       "</table>\n",
       "</div>"
      ],
      "text/plain": [
       "     id mhd benefits resources conversations poorsupport goodsupport   age  \\\n",
       "0  1261   N      NaN         N             Y           N         NaN  39.0   \n",
       "1  1262   Y        N         Y             Y           N         NaN  29.0   \n",
       "2  1262   Y        N         Y             Y           N         NaN  29.0   \n",
       "3  1263   N        N         N             Y           U         NaN  38.0   \n",
       "4  1264   Y      NaN       NaN           NaN           N         NaN  43.0   \n",
       "\n",
       "  gender                   job  \n",
       "0   male    Back-end Developer  \n",
       "1   male    Back-end Developer  \n",
       "2   male   Front-end Developer  \n",
       "3   male    Back-end Developer  \n",
       "4   male  Supervisor/Team Lead  "
      ]
     },
     "execution_count": 66,
     "metadata": {},
     "output_type": "execute_result"
    }
   ],
   "source": [
    "data = data.merge(job, how='outer', on='id')\n",
    "data.head()"
   ]
  },
  {
   "cell_type": "code",
   "execution_count": 67,
   "id": "631f49f9",
   "metadata": {},
   "outputs": [
    {
     "data": {
      "text/plain": [
       "Back-end Developer         737\n",
       "Front-end Developer        502\n",
       "DevOps/SysAdmin            282\n",
       "Supervisor/Team Lead       277\n",
       "Other                      187\n",
       "Support                    168\n",
       "One-person shop            161\n",
       "Designer                   135\n",
       "Executive Leadership       101\n",
       "Dev Evangelist/Advocate     99\n",
       "Sales                       31\n",
       "HR                          12\n",
       "Name: job, dtype: int64"
      ]
     },
     "execution_count": 67,
     "metadata": {},
     "output_type": "execute_result"
    }
   ],
   "source": [
    "data['job'].value_counts()"
   ]
  },
  {
   "cell_type": "markdown",
   "id": "87b5cbc7",
   "metadata": {},
   "source": [
    "Alright, let's take a look at mental health diagnosis across job type."
   ]
  },
  {
   "cell_type": "code",
   "execution_count": 68,
   "id": "382d844a",
   "metadata": {},
   "outputs": [
    {
     "name": "stdout",
     "output_type": "stream",
     "text": [
      "                 Chi-square test  results\n",
      "0  Pearson Chi-square ( 11.0) =   20.9622\n",
      "1                     p-value =    0.0338\n",
      "2                  Cramer's V =    0.0882\n"
     ]
    }
   ],
   "source": [
    "#Chi-squared test\n",
    "crosstab, test_results, expected = researchpy.crosstab(data['mhd'], \n",
    "                                               data['job'],\n",
    "                                                      test=\"chi-square\",\n",
    "                                                      expected_freqs=True,\n",
    "                                                      prop=\"cell\")\n",
    "print(test_results) #insignificant; p > 0.01"
   ]
  },
  {
   "cell_type": "markdown",
   "id": "e4671320",
   "metadata": {},
   "source": [
    "No difference in mental health diagnoses across job type. Let's look at benefits and resources."
   ]
  },
  {
   "cell_type": "code",
   "execution_count": 69,
   "id": "4300e423",
   "metadata": {},
   "outputs": [
    {
     "name": "stdout",
     "output_type": "stream",
     "text": [
      "                 Chi-square test  results\n",
      "0  Pearson Chi-square ( 22.0) =   37.1899\n",
      "1                     p-value =    0.0225\n",
      "2                  Cramer's V =    0.1003\n"
     ]
    }
   ],
   "source": [
    "#Chi-squared test\n",
    "crosstab, test_results, expected = researchpy.crosstab(data['benefits'], \n",
    "                                               data['job'],\n",
    "                                                      test=\"chi-square\",\n",
    "                                                      expected_freqs=True,\n",
    "                                                      prop=\"cell\")\n",
    "print(test_results) #insignificant; p > 0.01"
   ]
  },
  {
   "cell_type": "code",
   "execution_count": null,
   "id": "8b4273be",
   "metadata": {},
   "outputs": [],
   "source": [
    "#Chi-squared test\n",
    "crosstab, test_results, expected = researchpy.crosstab(data['resources'], \n",
    "                                               data['job'],\n",
    "                                                      test=\"chi-square\",\n",
    "                                                      expected_freqs=True,\n",
    "                                                      prop=\"cell\")\n",
    "print(test_results) #significant w/ small effect size\n",
    "\n",
    "#visualization.\n",
    "sb.catplot(kind='count', \n",
    "           data=data, \n",
    "           y='resources', hue='job', \n",
    "           palette=[\"r\", \"b\", \"y\", \"m\", \"g\", \"c\"])\n",
    "\n",
    "#Percentages.\n",
    "table = pd.crosstab(data['resources'], data['job'])\n",
    "print(table)\n",
    "\n",
    "for column in table:\n",
    "        print((table[column] / sum(table[column])*100))"
   ]
  },
  {
   "cell_type": "markdown",
   "id": "e95f519c",
   "metadata": {},
   "source": [
    "So, no significant difference in benefits for mental health but there is a significant difference in mental health resources. For example, more HR people have mental health resources while the developers (front, back, DevOps) and one-person shops have less mental health resources."
   ]
  },
  {
   "cell_type": "code",
   "execution_count": 70,
   "id": "4c71c091",
   "metadata": {},
   "outputs": [
    {
     "name": "stdout",
     "output_type": "stream",
     "text": [
      "                 Chi-square test  results\n",
      "0  Pearson Chi-square ( 11.0) =   16.0195\n",
      "1                     p-value =    0.1404\n",
      "2                  Cramer's V =    0.0895\n"
     ]
    }
   ],
   "source": [
    "#Chi-squared test\n",
    "crosstab, test_results, expected = researchpy.crosstab(data['conversations'], \n",
    "                                               data['job'],\n",
    "                                                      test=\"chi-square\",\n",
    "                                                      expected_freqs=True,\n",
    "                                                      prop=\"cell\")\n",
    "print(test_results) #insignificant"
   ]
  },
  {
   "cell_type": "markdown",
   "id": "4ffc74cc",
   "metadata": {},
   "source": [
    "Let's move onto remote workers!"
   ]
  },
  {
   "cell_type": "code",
   "execution_count": 71,
   "id": "d4288745",
   "metadata": {},
   "outputs": [
    {
     "data": {
      "text/html": [
       "<div>\n",
       "<style scoped>\n",
       "    .dataframe tbody tr th:only-of-type {\n",
       "        vertical-align: middle;\n",
       "    }\n",
       "\n",
       "    .dataframe tbody tr th {\n",
       "        vertical-align: top;\n",
       "    }\n",
       "\n",
       "    .dataframe thead th {\n",
       "        text-align: right;\n",
       "    }\n",
       "</style>\n",
       "<table border=\"1\" class=\"dataframe\">\n",
       "  <thead>\n",
       "    <tr style=\"text-align: right;\">\n",
       "      <th></th>\n",
       "      <th>remote</th>\n",
       "      <th>id</th>\n",
       "    </tr>\n",
       "  </thead>\n",
       "  <tbody>\n",
       "    <tr>\n",
       "      <th>0</th>\n",
       "      <td>Sometimes</td>\n",
       "      <td>1261</td>\n",
       "    </tr>\n",
       "    <tr>\n",
       "      <th>1</th>\n",
       "      <td>Never</td>\n",
       "      <td>1262</td>\n",
       "    </tr>\n",
       "    <tr>\n",
       "      <th>2</th>\n",
       "      <td>Always</td>\n",
       "      <td>1263</td>\n",
       "    </tr>\n",
       "    <tr>\n",
       "      <th>3</th>\n",
       "      <td>Sometimes</td>\n",
       "      <td>1264</td>\n",
       "    </tr>\n",
       "    <tr>\n",
       "      <th>4</th>\n",
       "      <td>Sometimes</td>\n",
       "      <td>1265</td>\n",
       "    </tr>\n",
       "  </tbody>\n",
       "</table>\n",
       "</div>"
      ],
      "text/plain": [
       "      remote    id\n",
       "0  Sometimes  1261\n",
       "1      Never  1262\n",
       "2     Always  1263\n",
       "3  Sometimes  1264\n",
       "4  Sometimes  1265"
      ]
     },
     "execution_count": 71,
     "metadata": {},
     "output_type": "execute_result"
    }
   ],
   "source": [
    "remote = pd.read_sql_query('''\n",
    "SELECT AnswerText as remote, UserID as id\n",
    "FROM Answer\n",
    "WHERE QuestionID=118;\n",
    "''',con)\n",
    "remote.head()"
   ]
  },
  {
   "cell_type": "code",
   "execution_count": 72,
   "id": "6f9a301e",
   "metadata": {},
   "outputs": [
    {
     "data": {
      "text/html": [
       "<div>\n",
       "<style scoped>\n",
       "    .dataframe tbody tr th:only-of-type {\n",
       "        vertical-align: middle;\n",
       "    }\n",
       "\n",
       "    .dataframe tbody tr th {\n",
       "        vertical-align: top;\n",
       "    }\n",
       "\n",
       "    .dataframe thead th {\n",
       "        text-align: right;\n",
       "    }\n",
       "</style>\n",
       "<table border=\"1\" class=\"dataframe\">\n",
       "  <thead>\n",
       "    <tr style=\"text-align: right;\">\n",
       "      <th></th>\n",
       "      <th>id</th>\n",
       "      <th>mhd</th>\n",
       "      <th>benefits</th>\n",
       "      <th>resources</th>\n",
       "      <th>conversations</th>\n",
       "      <th>poorsupport</th>\n",
       "      <th>goodsupport</th>\n",
       "      <th>age</th>\n",
       "      <th>gender</th>\n",
       "      <th>job</th>\n",
       "      <th>remote</th>\n",
       "    </tr>\n",
       "  </thead>\n",
       "  <tbody>\n",
       "    <tr>\n",
       "      <th>0</th>\n",
       "      <td>1261</td>\n",
       "      <td>N</td>\n",
       "      <td>NaN</td>\n",
       "      <td>N</td>\n",
       "      <td>Y</td>\n",
       "      <td>N</td>\n",
       "      <td>NaN</td>\n",
       "      <td>39.0</td>\n",
       "      <td>male</td>\n",
       "      <td>Back-end Developer</td>\n",
       "      <td>Sometimes</td>\n",
       "    </tr>\n",
       "    <tr>\n",
       "      <th>1</th>\n",
       "      <td>1262</td>\n",
       "      <td>Y</td>\n",
       "      <td>N</td>\n",
       "      <td>Y</td>\n",
       "      <td>Y</td>\n",
       "      <td>N</td>\n",
       "      <td>NaN</td>\n",
       "      <td>29.0</td>\n",
       "      <td>male</td>\n",
       "      <td>Back-end Developer</td>\n",
       "      <td>Never</td>\n",
       "    </tr>\n",
       "    <tr>\n",
       "      <th>2</th>\n",
       "      <td>1262</td>\n",
       "      <td>Y</td>\n",
       "      <td>N</td>\n",
       "      <td>Y</td>\n",
       "      <td>Y</td>\n",
       "      <td>N</td>\n",
       "      <td>NaN</td>\n",
       "      <td>29.0</td>\n",
       "      <td>male</td>\n",
       "      <td>Front-end Developer</td>\n",
       "      <td>Never</td>\n",
       "    </tr>\n",
       "    <tr>\n",
       "      <th>3</th>\n",
       "      <td>1263</td>\n",
       "      <td>N</td>\n",
       "      <td>N</td>\n",
       "      <td>N</td>\n",
       "      <td>Y</td>\n",
       "      <td>U</td>\n",
       "      <td>NaN</td>\n",
       "      <td>38.0</td>\n",
       "      <td>male</td>\n",
       "      <td>Back-end Developer</td>\n",
       "      <td>Always</td>\n",
       "    </tr>\n",
       "    <tr>\n",
       "      <th>4</th>\n",
       "      <td>1264</td>\n",
       "      <td>Y</td>\n",
       "      <td>NaN</td>\n",
       "      <td>NaN</td>\n",
       "      <td>NaN</td>\n",
       "      <td>N</td>\n",
       "      <td>NaN</td>\n",
       "      <td>43.0</td>\n",
       "      <td>male</td>\n",
       "      <td>Supervisor/Team Lead</td>\n",
       "      <td>Sometimes</td>\n",
       "    </tr>\n",
       "  </tbody>\n",
       "</table>\n",
       "</div>"
      ],
      "text/plain": [
       "     id mhd benefits resources conversations poorsupport goodsupport   age  \\\n",
       "0  1261   N      NaN         N             Y           N         NaN  39.0   \n",
       "1  1262   Y        N         Y             Y           N         NaN  29.0   \n",
       "2  1262   Y        N         Y             Y           N         NaN  29.0   \n",
       "3  1263   N        N         N             Y           U         NaN  38.0   \n",
       "4  1264   Y      NaN       NaN           NaN           N         NaN  43.0   \n",
       "\n",
       "  gender                   job     remote  \n",
       "0   male    Back-end Developer  Sometimes  \n",
       "1   male    Back-end Developer      Never  \n",
       "2   male   Front-end Developer      Never  \n",
       "3   male    Back-end Developer     Always  \n",
       "4   male  Supervisor/Team Lead  Sometimes  "
      ]
     },
     "execution_count": 72,
     "metadata": {},
     "output_type": "execute_result"
    }
   ],
   "source": [
    "data = data.merge(remote, how='outer', on='id')\n",
    "data.head()"
   ]
  },
  {
   "cell_type": "code",
   "execution_count": 73,
   "id": "73ff521c",
   "metadata": {},
   "outputs": [
    {
     "data": {
      "text/plain": [
       "Sometimes    1432\n",
       "Always        682\n",
       "Never         578\n",
       "Name: remote, dtype: int64"
      ]
     },
     "execution_count": 73,
     "metadata": {},
     "output_type": "execute_result"
    }
   ],
   "source": [
    "data['remote'].value_counts()"
   ]
  },
  {
   "cell_type": "code",
   "execution_count": 74,
   "id": "2aeceb1f",
   "metadata": {},
   "outputs": [
    {
     "data": {
      "text/plain": [
       "Hybrid    1432\n",
       "Always     682\n",
       "Never      578\n",
       "Name: remote, dtype: int64"
      ]
     },
     "execution_count": 74,
     "metadata": {},
     "output_type": "execute_result"
    }
   ],
   "source": [
    "mappings = {'Sometimes':'Hybrid'}\n",
    "data['remote'] = data['remote'].replace(mappings)\n",
    "data['remote'].value_counts()"
   ]
  },
  {
   "cell_type": "code",
   "execution_count": 75,
   "id": "e44b3897",
   "metadata": {},
   "outputs": [
    {
     "name": "stdout",
     "output_type": "stream",
     "text": [
      "                Chi-square test  results\n",
      "0  Pearson Chi-square ( 2.0) =    0.6374\n",
      "1                    p-value =    0.7271\n",
      "2                 Cramer's V =    0.0154\n"
     ]
    }
   ],
   "source": [
    "#Chi-squared test\n",
    "crosstab, test_results, expected = researchpy.crosstab(data['mhd'], \n",
    "                                               data['remote'],\n",
    "                                                      test=\"chi-square\",\n",
    "                                                      expected_freqs=True,\n",
    "                                                      prop=\"cell\")\n",
    "print(test_results) #insignificant "
   ]
  },
  {
   "cell_type": "markdown",
   "id": "224d9743",
   "metadata": {},
   "source": [
    "Mental health diagnoses not significantly different across remote work."
   ]
  },
  {
   "cell_type": "code",
   "execution_count": null,
   "id": "370ff553",
   "metadata": {},
   "outputs": [],
   "source": [
    "#Chi-squared test\n",
    "crosstab, test_results, expected = researchpy.crosstab(data['benefits'], \n",
    "                                               data['remote'],\n",
    "                                                      test=\"chi-square\",\n",
    "                                                      expected_freqs=True,\n",
    "                                                      prop=\"cell\")\n",
    "print(test_results) #significant w/ small effect size\n",
    "\n",
    "#visualization.\n",
    "sb.catplot(kind='count', \n",
    "           data=data, \n",
    "           y='benefits', hue='remote', \n",
    "           palette=[\"r\", \"b\", \"y\", \"m\", \"g\", \"c\"])\n",
    "\n",
    "#Percentages.\n",
    "table = pd.crosstab(data['benefits'], data['remote'])\n",
    "print(table)\n",
    "\n",
    "for column in table:\n",
    "    print((table[column] / sum(table[column])*100))"
   ]
  },
  {
   "cell_type": "code",
   "execution_count": 76,
   "id": "b77ab7b4",
   "metadata": {},
   "outputs": [
    {
     "name": "stdout",
     "output_type": "stream",
     "text": [
      "                Chi-square test  results\n",
      "0  Pearson Chi-square ( 4.0) =   17.0952\n",
      "1                    p-value =    0.0019\n",
      "2                 Cramer's V =    0.0654\n",
      "remote     Always  Hybrid  Never\n",
      "resources                       \n",
      "N             155     505    292\n",
      "U             122     296    123\n",
      "Y              87     288    132\n",
      "resources\n",
      "N    42.582418\n",
      "U    33.516484\n",
      "Y    23.901099\n",
      "Name: Always, dtype: float64\n",
      "resources\n",
      "N    46.372819\n",
      "U    27.180900\n",
      "Y    26.446281\n",
      "Name: Hybrid, dtype: float64\n",
      "resources\n",
      "N    53.382084\n",
      "U    22.486289\n",
      "Y    24.131627\n",
      "Name: Never, dtype: float64\n"
     ]
    },
    {
     "data": {
      "image/png": "[encoded data removed]",
      "text/plain": [
       "<Figure size 598.75x500 with 1 Axes>"
      ]
     },
     "metadata": {},
     "output_type": "display_data"
    }
   ],
   "source": [
    "#Chi-squared test\n",
    "crosstab, test_results, expected = researchpy.crosstab(data['resources'], \n",
    "                                               data['remote'],\n",
    "                                                      test=\"chi-square\",\n",
    "                                                      expected_freqs=True,\n",
    "                                                      prop=\"cell\")\n",
    "print(test_results) #significant w/ small effect size\n",
    "\n",
    "#visualization.\n",
    "sb.catplot(kind='count', \n",
    "           data=data, \n",
    "           y='resources', hue='remote', \n",
    "           palette=[\"r\", \"b\", \"y\", \"m\", \"g\", \"c\"])\n",
    "\n",
    "#Percentages.\n",
    "table = pd.crosstab(data['resources'], data['remote'])\n",
    "print(table)\n",
    "\n",
    "for column in table:\n",
    "    print((table[column] / sum(table[column])*100))"
   ]
  },
  {
   "cell_type": "markdown",
   "id": "458a8900",
   "metadata": {},
   "source": [
    "Interesting! Mental health benefits are higher for fully remove and hybrid workers. People who never did remote work also report less mental health resources. Interestingly, there is more remote workers who are unclear about their mental health benefits and resources"
   ]
  },
  {
   "cell_type": "code",
   "execution_count": 80,
   "id": "84dcf6e2",
   "metadata": {},
   "outputs": [
    {
     "name": "stdout",
     "output_type": "stream",
     "text": [
      "                Chi-square test  results\n",
      "0  Pearson Chi-square ( 2.0) =   30.0088\n",
      "1                    p-value =    0.0000\n",
      "2                 Cramer's V =    0.1225\n",
      "remote         Always  Hybrid  Never\n",
      "conversations                       \n",
      "N                  71     290    195\n",
      "Y                 293     799    352\n",
      "conversations\n",
      "N    19.505495\n",
      "Y    80.494505\n",
      "Name: Always, dtype: float64\n",
      "conversations\n",
      "N    26.629936\n",
      "Y    73.370064\n",
      "Name: Hybrid, dtype: float64\n",
      "conversations\n",
      "N    35.648995\n",
      "Y    64.351005\n",
      "Name: Never, dtype: float64\n"
     ]
    },
    {
     "data": {
      "image/png": "[encoded data removed]",
      "text/plain": [
       "<Figure size 598.75x500 with 1 Axes>"
      ]
     },
     "metadata": {},
     "output_type": "display_data"
    }
   ],
   "source": [
    "#Chi-squared test\n",
    "crosstab, test_results, expected = researchpy.crosstab(data['conversations'], \n",
    "                                               data['remote'],\n",
    "                                                      test=\"chi-square\",\n",
    "                                                      expected_freqs=True,\n",
    "                                                      prop=\"cell\")\n",
    "print(test_results) #significant w/ small effect size\n",
    "\n",
    "#visualization.\n",
    "sb.catplot(kind='count', \n",
    "           data=data, \n",
    "           y='conversations', hue='remote', \n",
    "           palette=[\"r\", \"b\", \"y\", \"m\", \"g\", \"c\"])\n",
    "\n",
    "#Percentages.\n",
    "table = pd.crosstab(data['conversations'], data['remote'])\n",
    "print(table)\n",
    "\n",
    "for column in table:\n",
    "    print((table[column] / sum(table[column])*100))"
   ]
  },
  {
   "cell_type": "markdown",
   "id": "b4fcec5b",
   "metadata": {},
   "source": [
    "People who have never done remote work are less likely to be willing to have conversations about mental health."
   ]
  },
  {
   "cell_type": "code",
   "execution_count": 79,
   "id": "7cf2464e",
   "metadata": {},
   "outputs": [
    {
     "name": "stdout",
     "output_type": "stream",
     "text": [
      "                Chi-square test  results\n",
      "0  Pearson Chi-square ( 4.0) =   39.1740\n",
      "1                    p-value =    0.0000\n",
      "2                 Cramer's V =    0.0884\n",
      "remote       Always  Hybrid  Never\n",
      "poorsupport                       \n",
      "N               260     572    215\n",
      "U               130     309    191\n",
      "Y               233     450    145\n",
      "poorsupport\n",
      "N    41.733547\n",
      "U    20.866774\n",
      "Y    37.399679\n",
      "Name: Always, dtype: float64\n",
      "poorsupport\n",
      "N    42.975207\n",
      "U    23.215627\n",
      "Y    33.809166\n",
      "Name: Hybrid, dtype: float64\n",
      "poorsupport\n",
      "N    39.019964\n",
      "U    34.664247\n",
      "Y    26.315789\n",
      "Name: Never, dtype: float64\n"
     ]
    },
    {
     "data": {
      "image/png": "[encoded data removed]",
      "text/plain": [
       "<Figure size 598.75x500 with 1 Axes>"
      ]
     },
     "metadata": {},
     "output_type": "display_data"
    }
   ],
   "source": [
    "#Chi-squared test\n",
    "crosstab, test_results, expected = researchpy.crosstab(data['poorsupport'], \n",
    "                                               data['remote'],\n",
    "                                                      test=\"chi-square\",\n",
    "                                                      expected_freqs=True,\n",
    "                                                      prop=\"cell\")\n",
    "print(test_results) #significant w/ small effect size\n",
    "\n",
    "#visualization.\n",
    "sb.catplot(kind='count', \n",
    "           data=data, \n",
    "           y='poorsupport', hue='remote', \n",
    "           palette=[\"r\", \"b\", \"y\", \"m\", \"g\", \"c\"])\n",
    "\n",
    "#Percentages.\n",
    "table = pd.crosstab(data['poorsupport'], data['remote'])\n",
    "print(table)\n",
    "\n",
    "for column in table:\n",
    "    print((table[column] / sum(table[column])*100))"
   ]
  },
  {
   "cell_type": "markdown",
   "id": "1eb03362",
   "metadata": {},
   "source": [
    "In-person workers are more likely to have experienced poor support to mental health."
   ]
  },
  {
   "cell_type": "markdown",
   "id": "a8e6f51e",
   "metadata": {},
   "source": [
    "So, where are more support and benefits needed?\n",
    "Training to upper management on how to handle mental health responses (noticed higher proportions of mhd in females and nonbinary individuals compared to males but less likely to be willing to discuss mental health).\n",
    "Resources and support for African American individuals with mental health disorders. Higher proportions of mhd in African American individuals but no difference in mental health resources and support.\n",
    "Resources and support needed for developers and DevOps; more government resources for indepenent one-person shops.\n",
    "More benefits and support for people who have never done remote work. More clarification of benefits and support for remote workers."
   ]
  },
  {
   "cell_type": "markdown",
   "id": "41bc2be4",
   "metadata": {},
   "source": [
    "Moving on to our final question! What do individuals in the survey believe would improve mental health support in their companies?"
   ]
  },
  {
   "cell_type": "code",
   "execution_count": 81,
   "id": "bc2a935f",
   "metadata": {},
   "outputs": [
    {
     "data": {
      "text/html": [
       "<div>\n",
       "<style scoped>\n",
       "    .dataframe tbody tr th:only-of-type {\n",
       "        vertical-align: middle;\n",
       "    }\n",
       "\n",
       "    .dataframe tbody tr th {\n",
       "        vertical-align: top;\n",
       "    }\n",
       "\n",
       "    .dataframe thead th {\n",
       "        text-align: right;\n",
       "    }\n",
       "</style>\n",
       "<table border=\"1\" class=\"dataframe\">\n",
       "  <thead>\n",
       "    <tr style=\"text-align: right;\">\n",
       "      <th></th>\n",
       "      <th>improvements</th>\n",
       "    </tr>\n",
       "  </thead>\n",
       "  <tbody>\n",
       "    <tr>\n",
       "      <th>0</th>\n",
       "      <td>They don't take it seriously</td>\n",
       "    </tr>\n",
       "    <tr>\n",
       "      <th>1</th>\n",
       "      <td>raise awareness, talk about it to lessen the s...</td>\n",
       "    </tr>\n",
       "    <tr>\n",
       "      <th>2</th>\n",
       "      <td>Education and awareness, statistics, add suppo...</td>\n",
       "    </tr>\n",
       "    <tr>\n",
       "      <th>3</th>\n",
       "      <td>More support, less burnout and death marches</td>\n",
       "    </tr>\n",
       "    <tr>\n",
       "      <th>4</th>\n",
       "      <td>I think tech is more internal and they don't r...</td>\n",
       "    </tr>\n",
       "  </tbody>\n",
       "</table>\n",
       "</div>"
      ],
      "text/plain": [
       "                                        improvements\n",
       "0                       They don't take it seriously\n",
       "1  raise awareness, talk about it to lessen the s...\n",
       "2  Education and awareness, statistics, add suppo...\n",
       "3       More support, less burnout and death marches\n",
       "4  I think tech is more internal and they don't r..."
      ]
     },
     "execution_count": 81,
     "metadata": {},
     "output_type": "execute_result"
    }
   ],
   "source": [
    "improvements = pd.read_sql_query('''\n",
    "SELECT AnswerText as improvements\n",
    "FROM Answer\n",
    "WHERE QuestionID=86;\n",
    "''',con)\n",
    "improvements.head()"
   ]
  },
  {
   "cell_type": "code",
   "execution_count": 82,
   "id": "597c22c3",
   "metadata": {},
   "outputs": [],
   "source": [
    "from nltk.corpus import stopwords\n",
    "from nltk.tokenize import word_tokenize\n",
    "from nltk.stem import WordNetLemmatizer, PorterStemmer\n",
    "import re\n",
    "import warnings\n",
    "warnings.filterwarnings('ignore')"
   ]
  },
  {
   "cell_type": "code",
   "execution_count": 83,
   "id": "beb28465",
   "metadata": {},
   "outputs": [],
   "source": [
    "#SOURCE: https://towardsdatascience.com/getting-started-with-text-analysis-in-python-ca13590eb4f7 \n",
    "def preprocess(raw_text):\n",
    "    \n",
    "    #regular expression keeping only letters \n",
    "    letters_only_text = re.sub(\"[^a-zA-Z]\", \" \", raw_text)\n",
    "\n",
    "    # convert to lower case and split into words -> convert string into list ( 'hello world' -> ['hello', 'world'])\n",
    "    words = letters_only_text.lower().split()\n",
    "\n",
    "    cleaned_words = []\n",
    "    lemmatizer = PorterStemmer() #plug in here any other stemmer or lemmatiser you want to try out\n",
    "    \n",
    "    # remove stopwords\n",
    "    stop_words = set(stopwords.words('english'))\n",
    "    for word in words:\n",
    "        if word not in stop_words:\n",
    "            cleaned_words.append(word)\n",
    "    \n",
    "    # stemm or lemmatise words\n",
    "    stemmed_words = []\n",
    "    for word in cleaned_words:\n",
    "        word = lemmatizer.stem(word)   #dont forget to change stem to lemmatize if you are using a lemmatizer\n",
    "        stemmed_words.append(word)\n",
    "    \n",
    "    # converting list back to string\n",
    "    return \" \".join(stemmed_words)"
   ]
  },
  {
   "cell_type": "markdown",
   "id": "78cac7f3",
   "metadata": {},
   "source": [
    "5. Using NLP for extracting relevant keywords"
   ]
  },
  {
   "cell_type": "code",
   "execution_count": 85,
   "id": "e8a311ea",
   "metadata": {},
   "outputs": [
    {
     "name": "stderr",
     "output_type": "stream",
     "text": [
      "[nltk_data] Downloading package stopwords to\n",
      "[nltk_data]     C:\\Users\\ishit\\AppData\\Roaming\\nltk_data...\n",
      "[nltk_data]   Unzipping corpora\\stopwords.zip.\n"
     ]
    },
    {
     "data": {
      "text/plain": [
       "True"
      ]
     },
     "execution_count": 85,
     "metadata": {},
     "output_type": "execute_result"
    }
   ],
   "source": [
    "import nltk\n",
    "nltk.download('stopwords')"
   ]
  },
  {
   "cell_type": "code",
   "execution_count": 86,
   "id": "7dc93936",
   "metadata": {},
   "outputs": [
    {
     "data": {
      "text/plain": [
       "0                                         take serious\n",
       "1                         rais awar talk lessen stigma\n",
       "2    educ awar statist add support write compani ha...\n",
       "3                     support less burnout death march\n",
       "4              think tech intern realli talk feel issu\n",
       "Name: processed, dtype: object"
      ]
     },
     "execution_count": 86,
     "metadata": {},
     "output_type": "execute_result"
    }
   ],
   "source": [
    "#using the above function to strip, lower, remove stopwords and \n",
    "improvements['processed'] = improvements['improvements'].apply(preprocess)\n",
    "improvements['processed'].head()"
   ]
  },
  {
   "cell_type": "code",
   "execution_count": 87,
   "id": "b85145b7",
   "metadata": {},
   "outputs": [
    {
     "data": {
      "text/plain": [
       "[('health', 519),\n",
       " ('mental', 505),\n",
       " ('work', 326),\n",
       " ('issu', 265),\n",
       " ('peopl', 232),\n",
       " ('employe', 186),\n",
       " ('support', 182),\n",
       " ('talk', 166),\n",
       " ('industri', 142),\n",
       " ('think', 131),\n",
       " ('open', 131),\n",
       " ('make', 124),\n",
       " ('time', 122),\n",
       " ('need', 114),\n",
       " ('tech', 105)]"
      ]
     },
     "execution_count": 87,
     "metadata": {},
     "output_type": "execute_result"
    }
   ],
   "source": [
    "#most common words\n",
    "from collections import Counter\n",
    "Counter(\" \".join(improvements['processed']).split()).most_common(15)"
   ]
  },
  {
   "cell_type": "code",
   "execution_count": 89,
   "id": "8e8954be",
   "metadata": {},
   "outputs": [
    {
     "name": "stdout",
     "output_type": "stream",
     "text": [
      "Collecting wordcloud\n",
      "  Downloading wordcloud-1.9.2-cp310-cp310-win_amd64.whl (152 kB)\n",
      "     -------------------------------------- 152.1/152.1 kB 4.6 MB/s eta 0:00:00\n",
      "Requirement already satisfied: pillow in c:\\users\\ishit\\anaconda3\\lib\\site-packages (from wordcloud) (9.4.0)\n",
      "Requirement already satisfied: matplotlib in c:\\users\\ishit\\anaconda3\\lib\\site-packages (from wordcloud) (3.7.0)\n",
      "Requirement already satisfied: numpy>=1.6.1 in c:\\users\\ishit\\anaconda3\\lib\\site-packages (from wordcloud) (1.23.5)\n",
      "Requirement already satisfied: fonttools>=4.22.0 in c:\\users\\ishit\\anaconda3\\lib\\site-packages (from matplotlib->wordcloud) (4.25.0)\n",
      "Requirement already satisfied: python-dateutil>=2.7 in c:\\users\\ishit\\anaconda3\\lib\\site-packages (from matplotlib->wordcloud) (2.8.2)\n",
      "Requirement already satisfied: kiwisolver>=1.0.1 in c:\\users\\ishit\\anaconda3\\lib\\site-packages (from matplotlib->wordcloud) (1.4.4)\n",
      "Requirement already satisfied: contourpy>=1.0.1 in c:\\users\\ishit\\anaconda3\\lib\\site-packages (from matplotlib->wordcloud) (1.0.5)\n",
      "Requirement already satisfied: cycler>=0.10 in c:\\users\\ishit\\anaconda3\\lib\\site-packages (from matplotlib->wordcloud) (0.11.0)\n",
      "Requirement already satisfied: packaging>=20.0 in c:\\users\\ishit\\anaconda3\\lib\\site-packages (from matplotlib->wordcloud) (22.0)\n",
      "Requirement already satisfied: pyparsing>=2.3.1 in c:\\users\\ishit\\anaconda3\\lib\\site-packages (from matplotlib->wordcloud) (3.0.9)\n",
      "Requirement already satisfied: six>=1.5 in c:\\users\\ishit\\anaconda3\\lib\\site-packages (from python-dateutil>=2.7->matplotlib->wordcloud) (1.16.0)\n",
      "Installing collected packages: wordcloud\n",
      "Successfully installed wordcloud-1.9.2\n"
     ]
    }
   ],
   "source": [
    "!pip install wordcloud"
   ]
  },
  {
   "cell_type": "code",
   "execution_count": 90,
   "id": "a72b0796",
   "metadata": {},
   "outputs": [
    {
     "data": {
      "image/png": "[encoded data removed]",
      "text/plain": [
       "<Figure size 500x500 with 1 Axes>"
      ]
     },
     "metadata": {},
     "output_type": "display_data"
    }
   ],
   "source": [
    "#nice library to produce wordclouds\n",
    "from wordcloud import WordCloud\n",
    "\n",
    "import matplotlib.pyplot as plt\n",
    "all_words = '' \n",
    "#looping through all incidents and joining them to one text, to extract most common words\n",
    "for arg in improvements['processed']: \n",
    "\n",
    "    tokens = arg.split()  \n",
    "      \n",
    "    all_words += \" \".join(tokens)+\" \"\n",
    "\n",
    "wordcloud = WordCloud(width = 700, height = 700, \n",
    "                background_color ='white', \n",
    "                min_font_size = 10).generate(all_words) \n",
    "  \n",
    "# plot the WordCloud image                        \n",
    "plt.figure(figsize = (5, 5), facecolor = None) \n",
    "plt.imshow(wordcloud) \n",
    "plt.axis(\"off\") \n",
    "plt.tight_layout(pad = 0) \n",
    "plt.show()"
   ]
  },
  {
   "cell_type": "code",
   "execution_count": 91,
   "id": "60a57904",
   "metadata": {},
   "outputs": [
    {
     "name": "stdout",
     "output_type": "stream",
     "text": [
      "('mental', 'health') 408\n",
      "('health', 'issu') 141\n",
      "('physic', 'health') 53\n",
      "('tech', 'industri') 52\n",
      "('mental', 'ill') 44\n",
      "('work', 'life') 25\n",
      "('life', 'balanc') 23\n",
      "('work', 'hour') 22\n",
      "('open', 'discuss') 22\n",
      "('remov', 'stigma') 21\n",
      "('discuss', 'mental') 19\n",
      "('talk', 'openli') 18\n",
      "('talk', 'mental') 18\n",
      "('health', 'day') 18\n",
      "('health', 'care') 17\n",
      "('health', 'benefit') 16\n",
      "('peopl', 'mental') 16\n",
      "('take', 'time') 16\n",
      "('awar', 'mental') 16\n",
      "('support', 'mental') 15\n"
     ]
    }
   ],
   "source": [
    "from nltk.util import ngrams\n",
    "n_gram = 2\n",
    "n_gram_dic = dict(Counter(ngrams(all_words.split(), n_gram)))\n",
    "\n",
    "for w in sorted(n_gram_dic, key=n_gram_dic.get, reverse=True)[0:20]:x\n",
    "    print(w, n_gram_dic[w])"
   ]
  },
  {
   "cell_type": "markdown",
   "id": "f853defb",
   "metadata": {},
   "source": [
    "So, based on our initial analyses, the respondents think that the industry and employers can improve mental health by considering:\n",
    "\n",
    "1. Improving work-life balance and work hours\n",
    "2. Openly discussing and talking about mental health issues to improve awareness\n",
    "3. Working on reducing stigma around mental health and mental health discussions\n",
    "4. More mental health days, more benefits, and more healthcare\n",
    "5. More discussion on the current benefits and resources for mental health\n",
    "\n",
    "These can be applied in general to the industry and across companies, with special care taken for individuals with higher rates of mental health disorders and lower support. This includes African Americans, developers and devOps, and non-remote workers."
   ]
  }
 ],
 "metadata": {
  "kernelspec": {
   "display_name": "Python 3 (ipykernel)",
   "language": "python",
   "name": "python3"
  },
  "language_info": {
   "codemirror_mode": {
    "name": "ipython",
    "version": 3
   },
   "file_extension": ".py",
   "mimetype": "text/x-python",
   "name": "python",
   "nbconvert_exporter": "python",
   "pygments_lexer": "ipython3",
   "version": "3.10.9"
  }
 },
 "nbformat": 4,
 "nbformat_minor": 5
}
